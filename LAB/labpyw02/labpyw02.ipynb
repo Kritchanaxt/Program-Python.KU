{
 "cells": [
  {
   "cell_type": "code",
   "execution_count": null,
   "metadata": {},
   "outputs": [],
   "source": [
    "#1. 5, 4, 3, 2, 1\n",
    "\n",
    "n = 5 \n",
    "#print(n)\n",
    "while n > 0:\n",
    "    print(n)\n",
    "    n = n - 1"
   ]
  },
  {
   "cell_type": "code",
   "execution_count": null,
   "metadata": {},
   "outputs": [],
   "source": [
    "# 2.loop for\n",
    "\n",
    "for i in [5,4,3,2,1]:\n",
    "    print(i)"
   ]
  },
  {
   "cell_type": "code",
   "execution_count": null,
   "metadata": {},
   "outputs": [],
   "source": [
    "# 3. for i in range(5): #start, stop, step\n",
    "\n",
    "for i in range(5):\n",
    "    print(i)"
   ]
  },
  {
   "cell_type": "code",
   "execution_count": null,
   "metadata": {},
   "outputs": [],
   "source": [
    "# 4 .for loop, range function\n",
    "\n",
    "sum = 0\n",
    "for i in range(1, 101, 2):\n",
    "    sum += 1\n",
    "print(sum)"
   ]
  },
  {
   "cell_type": "code",
   "execution_count": null,
   "metadata": {},
   "outputs": [],
   "source": [
    "# 5. Sum\n",
    "\n",
    "count = 0 \n",
    "sum = 0\n",
    "print('Before', count, sum)\n",
    "for i in [9, 41, 3, 74, 15]:\n",
    "    # sum = 0\n",
    "    count += 1\n",
    "    sum += i\n",
    "    print(count, sum, i)\n",
    "print('After', count, sum, sum/count)"
   ]
  },
  {
   "cell_type": "code",
   "execution_count": null,
   "metadata": {},
   "outputs": [],
   "source": [
    "# 6. Largest\n",
    "\n",
    "largest_so_far = -1\n",
    "print('Before',largest_so_far)\n",
    "for the_num in [9, 41, 12, 3, 74, 15]:\n",
    "    if the_num > largest_so_far:\n",
    "        largest_so_far = the_num\n",
    "    print(largest_so_far, the_num)\n",
    "print('After', largest_so_far)\n"
   ]
  },
  {
   "cell_type": "code",
   "execution_count": null,
   "metadata": {},
   "outputs": [],
   "source": [
    "# 7. Min\n",
    "\n",
    "min_so_far = 10000\n",
    "print('Before', min_so_far)\n",
    "for i in [9,41,12,3,74,15]:\n",
    "    if i < min_so_far:\n",
    "        min_so_far = i \n",
    "    print(min_so_far)\n",
    "print('After', min_so_far)"
   ]
  },
  {
   "cell_type": "code",
   "execution_count": null,
   "metadata": {},
   "outputs": [],
   "source": [
    "# 8.\n",
    "\n",
    "my_list = [10, 20, 30, 40, 50, 60]\n",
    "for x in range(len(my_list)): \n",
    "    print(x)"
   ]
  },
  {
   "cell_type": "code",
   "execution_count": null,
   "metadata": {},
   "outputs": [],
   "source": [
    "# 9. range \n",
    "\n",
    "for i in range(8):\n",
    "    print(i)"
   ]
  },
  {
   "cell_type": "code",
   "execution_count": null,
   "metadata": {},
   "outputs": [],
   "source": [
    "# 10. len\n",
    "\n",
    "my_list = [10, 20, 30, 40, 50, 60, 70, 80]\n",
    "# print(len(my_list))\n",
    "for i in range(len(my_list)): \n",
    "    print(i, my_list[i])"
   ]
  },
  {
   "cell_type": "code",
   "execution_count": null,
   "metadata": {},
   "outputs": [],
   "source": [
    "# 11. enumerate\n",
    "\n",
    "my_list = [10, 20, 30, 40, 50, 60, 70, 80]\n",
    "\n",
    "for index, val in enumerate(my_list):\n",
    "    print(index, val)"
   ]
  },
  {
   "cell_type": "code",
   "execution_count": null,
   "metadata": {},
   "outputs": [],
   "source": [
    "# 12. Reverse Text\n",
    "\n",
    "str01 = \"Data Management Tool\"\n",
    "reversed_str = \"\" \n",
    "for t in str01:\n",
    "    reversed_str = t + reversed_str\n",
    "print(reversed_str)\n",
    "#output = \"looT tnemeganaM ataD\"\n",
    "\n",
    "#? วิธีนี้: ใช้ for loop และสะสมตัวอักษรในตัวแปรสตริงใหม่\n",
    "\n",
    "#? ตัวอย่างเช่น:\n",
    "# ถ้า str01 = \"abc\"\n",
    "\n",
    "#? ลูปจะทำงานดังนี้:\n",
    "# รอบที่ 1: t = \"a\", reversed_str = \"a\"\n",
    "# รอบที่ 2: t = \"b\", reversed_str = \"ba\"\n",
    "# รอบที่ 3: t = \"c\", reversed_str = \"cba\""
   ]
  }
 ],
 "metadata": {
  "language_info": {
   "name": "python"
  }
 },
 "nbformat": 4,
 "nbformat_minor": 2
}
