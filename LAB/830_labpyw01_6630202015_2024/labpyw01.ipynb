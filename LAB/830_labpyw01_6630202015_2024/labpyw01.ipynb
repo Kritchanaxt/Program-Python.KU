{
 "cells": [
  {
   "cell_type": "code",
   "execution_count": null,
   "metadata": {},
   "outputs": [
    {
     "name": "stdout",
     "output_type": "stream",
     "text": [
      "19\n"
     ]
    }
   ],
   "source": [
    "# 1. Assign new variables and calculate, then show\n",
    "\n",
    "a = 10\n",
    "b = 9\n",
    "c = a + b \n",
    "print(c)"
   ]
  },
  {
   "cell_type": "code",
   "execution_count": null,
   "metadata": {},
   "outputs": [
    {
     "name": "stdout",
     "output_type": "stream",
     "text": [
      "Hello World\n",
      "H\n",
      "llo\n",
      "llo World\n",
      "Hello WorldHello World\n",
      "Hello WorldTEST\n"
     ]
    }
   ],
   "source": [
    "# 2. String\n",
    "\n",
    "str = \"Hello World\"\n",
    "print(str)\n",
    "print(str[0])\n",
    "print(str[2:5])\n",
    "print(str[2:])\n",
    "print(str*2)\n",
    "print(str+\"TEST\")"
   ]
  },
  {
   "cell_type": "code",
   "execution_count": null,
   "metadata": {},
   "outputs": [
    {
     "name": "stdout",
     "output_type": "stream",
     "text": [
      "['abcd', 786, 2.23, 'john', 70.2]\n",
      "abcd\n",
      "[786, 2.23]\n",
      "[2.23, 'john', 70.2]\n",
      "[123, 'john', 123, 'john']\n",
      "['abcd', 786, 2.23, 'john', 70.2, 123, 'john']\n"
     ]
    }
   ],
   "source": [
    "# 3. list data type, indexing\n",
    "\n",
    "list = ['abcd', 786, 2.23, 'john', 70.2]\n",
    "tinylist = [123, 'john']\n",
    "\n",
    "print(list)\n",
    "print(list[0])\n",
    "print(list[1:3])\n",
    "print(list[2:])\n",
    "print(tinylist*2)\n",
    "print(list+tinylist)"
   ]
  },
  {
   "cell_type": "code",
   "execution_count": null,
   "metadata": {},
   "outputs": [
    {
     "name": "stdout",
     "output_type": "stream",
     "text": [
      "Good morning\n",
      "Good morning to you too!\n"
     ]
    }
   ],
   "source": [
    "# 4. String concatenation\n",
    "\n",
    "word1 = \"Good\"\n",
    "word2 = \"morning\"\n",
    "word3 = \"to you too!\"\n",
    "print(word1, word2)\n",
    "sentance = word1 + \" \" + word2 + \" \" + word3\n",
    "print(sentance)"
   ]
  },
  {
   "cell_type": "code",
   "execution_count": 3,
   "metadata": {},
   "outputs": [
    {
     "name": "stdout",
     "output_type": "stream",
     "text": [
      "10\n",
      "e\n",
      "efgh\n",
      "i\n"
     ]
    }
   ],
   "source": [
    "# 5 String function\n",
    "\n",
    "text = \"abcdefghij\"\n",
    "print(len(text))\n",
    "print(text[4])\n",
    "print(text[4:8]) # e - h or position 4 - 8\n",
    "print(text[-2])"
   ]
  },
  {
   "cell_type": "code",
   "execution_count": 3,
   "metadata": {},
   "outputs": [
    {
     "name": "stdout",
     "output_type": "stream",
     "text": [
      "13\n"
     ]
    }
   ],
   "source": [
    "# 6 If condition \n",
    "\n",
    "floor = int(input(\"Floor number:\"))\n",
    "actualfoor = floor\n",
    "if floor > 13:\n",
    "    actualfoor = actualfoor - 1\n",
    "    print(actualfoor)"
   ]
  },
  {
   "cell_type": "code",
   "execution_count": 4,
   "metadata": {},
   "outputs": [
    {
     "name": "stdout",
     "output_type": "stream",
     "text": [
      "Elsecondition 13\n"
     ]
    }
   ],
   "source": [
    "# 7 If condition with else \n",
    "\n",
    "floor = int(input(\"Floor number:\"))\n",
    "actualfoor = floor\n",
    "if floor > 13: \n",
    "    actualfoor = actualfoor -1\n",
    "    print(\"ActualFloor\", actualfoor)\n",
    "else: \n",
    "    actualfoor - floor\n",
    "    print(\"Elsecondition\", actualfoor)"
   ]
  },
  {
   "cell_type": "code",
   "execution_count": null,
   "metadata": {},
   "outputs": [],
   "source": [
    "# 8. IF condition with elseif\n",
    "\n",
    "a = 200\n",
    "b = 33\n",
    "if b > a:\n",
    "    print(\"b is greater than a\")\n",
    "elif a==b:\n",
    "    print(\"a and b are equal\")\n",
    "else:\n",
    "    print(\"a is greater than b\")"
   ]
  },
  {
   "cell_type": "code",
   "execution_count": null,
   "metadata": {},
   "outputs": [],
   "source": [
    "# 9. Grading System, A, B, C, D, E\n",
    "\n",
    "score = int(input(\"Input Score: \"))\n",
    "\n",
    "if score >= 90 and score <= 100:\n",
    "    print(\"Grade: A\")\n",
    "elif score >= 80 and score <= 89:\n",
    "    print(\"Grade: B\")\n",
    "elif score >= 70 and score <= 79:\n",
    "    print(\"Grade: C\")\n",
    "elif score >= 60 and score <= 69:\n",
    "    print(\"Grade: D\")\n",
    "elif score >= 50 and score <= 59:\n",
    "    print(\"Grade: F\")\n",
    "else:\n",
    "    print(\"ERROR\")"
   ]
  },
  {
   "cell_type": "code",
   "execution_count": null,
   "metadata": {},
   "outputs": [],
   "source": [
    "# 10. Start to do a function.\n",
    "\n",
    "def hello():\n",
    "    print(\"Hello World\")\n",
    "\n",
    "hello()"
   ]
  },
  {
   "cell_type": "code",
   "execution_count": null,
   "metadata": {},
   "outputs": [],
   "source": [
    "# 11. Leap Year with Function\n",
    "\n",
    "def CheckLeapYear(QYear):\n",
    "    if ((QYear % 400 == 0) or (QYear %100 != 0) and (QYear%4 == 0)):\n",
    "        print(\"This is a leap year\")\n",
    "    else: \n",
    "        print(\"This is not a leap year\")\n",
    "\n",
    "QYear = int(input(\"Enter the number year: \"))\n",
    "CheckLeapYear(QYear)"
   ]
  },
  {
   "cell_type": "code",
   "execution_count": null,
   "metadata": {},
   "outputs": [],
   "source": [
    "# 12. Grade with Function\n",
    "\n",
    "def get_grade(score):\n",
    "    if score >= 90 and score <= 100:\n",
    "        print(\"Grade: A\")\n",
    "    elif score >= 80 and score <= 89:\n",
    "        print(\"Grade: B\")\n",
    "    elif score >= 70 and score <= 79:\n",
    "        print(\"Grade: C\")\n",
    "    elif score >= 60 and score <= 69:\n",
    "        print(\"Grade: D\")\n",
    "    elif score >= 50 and score <= 59:\n",
    "        print(\"Grade: F\")\n",
    "    else:\n",
    "        print(\"ERROR\")\n",
    "\n",
    "score = int(input(\"Input Score: \"))\n",
    "get_grade(score)"
   ]
  },
  {
   "cell_type": "code",
   "execution_count": null,
   "metadata": {},
   "outputs": [],
   "source": [
    "# 12.1. Grade with Ternary Operator\n",
    "#? Structure: \"value true\" if condition else \"value false\"\n",
    "\n",
    "def get_grade(score):\n",
    "    return \"Grade A\" if 90 <= score <= 100 else (\n",
    "           \"Grade B\" if 80 <= score <= 89 else (\n",
    "           \"Grade C\" if 70 <= score <= 79 else (\n",
    "           \"Grade D\" if 60 <= score <= 69 else (\n",
    "           \"Grade F\" if 50 <= score <= 59 else \"ERROR\"))))\n",
    "\n",
    "score = int(input(\"Input Score: \"))\n",
    "print(get_grade(score))"
   ]
  },
  {
   "cell_type": "code",
   "execution_count": null,
   "metadata": {},
   "outputs": [],
   "source": []
  }
 ],
 "metadata": {
  "kernelspec": {
   "display_name": "Python 3",
   "language": "python",
   "name": "python3"
  },
  "language_info": {
   "codemirror_mode": {
    "name": "ipython",
    "version": 3
   },
   "file_extension": ".py",
   "mimetype": "text/x-python",
   "name": "python",
   "nbconvert_exporter": "python",
   "pygments_lexer": "ipython3",
   "version": "3.12.4"
  }
 },
 "nbformat": 4,
 "nbformat_minor": 2
}
