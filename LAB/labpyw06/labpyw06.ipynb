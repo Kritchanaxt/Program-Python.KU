{
 "cells": [
  {
   "cell_type": "code",
   "execution_count": null,
   "metadata": {},
   "outputs": [],
   "source": [
    "#1.\n",
    " \n",
    "x = int(input(\"Enter a number: \"))\n",
    "if (x % 3 == 0 and ((x >= -75 and x <= -25) or (x >= 50 and x <= 75))):\n",
    "    print(\"Correct input\")\n",
    "else:\n",
    "    print(\"Incorrect input\")"
   ]
  },
  {
   "cell_type": "code",
   "execution_count": null,
   "metadata": {},
   "outputs": [],
   "source": [
    "#2.\n",
    "\n",
    "li = [12,24,35,70,88,120,155]\n",
    "li = [x for x in li if x % 35 != 0]\n",
    "print(li)"
   ]
  },
  {
   "cell_type": "code",
   "execution_count": null,
   "metadata": {},
   "outputs": [],
   "source": [
    "#3.\n",
    "\n",
    "li = [12,24,35,70,88,120,155]\n",
    "li = [li [x] for x in range(len(li)) if x % 2!= 0]\n",
    "print(li)"
   ]
  },
  {
   "cell_type": "code",
   "execution_count": null,
   "metadata": {},
   "outputs": [],
   "source": [
    "#4.\n",
    "  \n",
    "start = -75\n",
    "while (True):\n",
    "    if (start % 3 == 0 and ((start >= -75 and start <= -25) or (start >= 50 and start <= 75))):\n",
    "        print(\"Number: \", start)\n",
    "    start += 1\n",
    "    if (start > 75):\n",
    "        break"
   ]
  },
  {
   "cell_type": "code",
   "execution_count": null,
   "metadata": {},
   "outputs": [],
   "source": [
    "#5. \n",
    "\n",
    "def count_matrix_elements(matrix):\n",
    "    count = 0\n",
    "    for row in  matrix:\n",
    "      for element in row:\n",
    "         count += 1\n",
    "    return count\n",
    "\n",
    "table = [[5,2,6], [4,6,0], [9,1,8], [7,3,8]]\n",
    "count = count_matrix_elements(table)\n",
    "print(\"Number of elements in the matrix: \", count)"
   ]
  },
  {
   "cell_type": "code",
   "execution_count": null,
   "metadata": {},
   "outputs": [],
   "source": [
    "#6.\n",
    "\n",
    "s = input()\n",
    "dic = {word:s.count(word) for word in s}\n",
    "for k, v in dic.items():\n",
    "    print(f'{k}: {v}')"
   ]
  },
  {
   "cell_type": "code",
   "execution_count": null,
   "metadata": {},
   "outputs": [],
   "source": [
    "#7.\n",
    "\n",
    "def vowel_counter(sentence):\n",
    "    count = 0\n",
    "    for ind in sentence:\n",
    "        if (ind.lower() in ['a', 'e', 'i', 'o', 'u']):\n",
    "            count += 1\n",
    "\n",
    "    return (count)\n",
    "\n",
    "sent = \"My name is Wave\"\n",
    "print(vowel_counter(sent))"
   ]
  },
  {
   "cell_type": "code",
   "execution_count": null,
   "metadata": {},
   "outputs": [],
   "source": [
    "#8.\n",
    "\n",
    "x = 2**(4-3) % 2 == 0\n",
    "print(x)"
   ]
  },
  {
   "cell_type": "code",
   "execution_count": null,
   "metadata": {},
   "outputs": [],
   "source": [
    "#9.\n",
    "\n",
    "li = [12,24,35,70,88,120,155]\n",
    "li = [x for (i,x) in enumerate(li) if i not in (0,4,5)]"
   ]
  },
  {
   "cell_type": "code",
   "execution_count": null,
   "metadata": {},
   "outputs": [],
   "source": [
    "#10.\n",
    "\n",
    "value = []\n",
    "items = [int(x) for x in input().split(',')]\n",
    "result = \" \".join(str(x) for x in items if x % 5 == 0) \n",
    "print(\" \".join(result))"
   ]
  },
  {
   "cell_type": "code",
   "execution_count": null,
   "metadata": {},
   "outputs": [],
   "source": [
    "#11. \n",
    "\n",
    "import random\n",
    "number = [x for x in range(10,151) if x % 35 == 0]\n",
    "random.choice(number)\n",
    "\n",
    "print(random.choice(number))"
   ]
  }
 ],
 "metadata": {
  "language_info": {
   "name": "python"
  }
 },
 "nbformat": 4,
 "nbformat_minor": 2
}
