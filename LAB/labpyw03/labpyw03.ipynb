{
 "cells": [
  {
   "cell_type": "code",
   "execution_count": null,
   "metadata": {},
   "outputs": [],
   "source": [
    "# 1. Use while loop and sum\n",
    "\n",
    "i = 0\n",
    "sum = 0\n",
    "# 1+2+3+4+5+6+7+8+9+10 --> Total --> Loop While\n",
    "\n",
    "# ออกเมื่อไม่วน loop เมื่อเงื่อนไขไม่จริง หรือ false\n",
    "while i<=10:\n",
    "    sum += i \n",
    "    i = i + 1"
   ]
  },
  {
   "cell_type": "code",
   "execution_count": null,
   "metadata": {},
   "outputs": [],
   "source": [
    "# 2. Use range and Sum\n",
    "\n",
    "sum = 0 \n",
    "for i in range(0, 11):\n",
    "    sum += i\n",
    "print(sum)"
   ]
  },
  {
   "cell_type": "code",
   "execution_count": null,
   "metadata": {},
   "outputs": [],
   "source": [
    "# 3. Use range\n",
    "\n",
    "for i in range(10):\n",
    "    print(i)"
   ]
  },
  {
   "cell_type": "code",
   "execution_count": null,
   "metadata": {},
   "outputs": [],
   "source": [
    "# 4. Use range\n",
    "\n",
    "total = 0 \n",
    "for i in range(1, 100, 2):\n",
    "    total += i\n",
    "    #print(i)\n",
    "print(total)"
   ]
  },
  {
   "cell_type": "code",
   "execution_count": null,
   "metadata": {},
   "outputs": [],
   "source": [
    "# 5.\n",
    "\n",
    "#output --> ['cody', 'aaron', 'bernice']\n",
    "students = ['bernice', 'aaron', 'cody']\n",
    "a = len(students)\n",
    "print(a)\n",
    "b = 0\n",
    "#print(student[i])\n",
    "\n",
    "while b < a:\n",
    "    print(students[b])\n",
    "    b += 1\n",
    "\n",
    "print('\\n')\n",
    "\n",
    "for x in range(a):\n",
    "    print(students[x])\n",
    "\n",
    "b = len(students) -1\n",
    "\n",
    "print('While - Reverse')\n",
    "\n",
    "#Critical Thinking\n",
    "while b >= 0:\n",
    "    print(students[b])\n",
    "    b -= 1\n",
    "\n",
    "#Reverse --> WHilel --for\n",
    "c = len(students)-1\n",
    "for i in range(len(students)):\n",
    "    print(students[c])\n",
    "    c -= 1  # remove\n",
    "\n",
    "\n"
   ]
  },
  {
   "cell_type": "code",
   "execution_count": null,
   "metadata": {},
   "outputs": [],
   "source": [
    "# 6. Use text.title\n",
    "\n",
    "students = ['bernice', 'arron', 'cody']\n",
    "\n",
    "for student in students:\n",
    "    print(\"Hello, \" + student.title() + \"!\")"
   ]
  },
  {
   "cell_type": "code",
   "execution_count": null,
   "metadata": {},
   "outputs": [],
   "source": [
    "# 7. Use enumerate and str()\n",
    "\n",
    "dogs = ['border collie', 'australian cattle dog', 'labrador retriever']\n",
    "\n",
    "print(\"Result for the dog show are as follows:\\n\")\n",
    "for index, dog in enumerate(dogs):\n",
    "    place = str(index)\n",
    "    print(\"Place: \" + place + \"Dog\" + dog.title())\n",
    "    print(\"Place: \" + place + \"Dog\" + dog[index])\n"
   ]
  },
  {
   "cell_type": "code",
   "execution_count": null,
   "metadata": {},
   "outputs": [],
   "source": [
    "# 8. Use append\n",
    "\n",
    "dogs = ['border collie', 'australian cattle dog', 'labrador retriever']\n",
    "dogs.append('poodle')\n",
    "\n",
    "for dog in dogs:\n",
    "    print(dog.title() + \"s are cool.\")"
   ]
  },
  {
   "cell_type": "code",
   "execution_count": null,
   "metadata": {},
   "outputs": [],
   "source": [
    "# 9. Use insert\n",
    "dogs = ['border collie', 'australian cattle dog', 'labrador retriever']\n",
    "dogs.insert(1, 'poodle')\n",
    "\n",
    "print(dogs.count('border collie'))"
   ]
  },
  {
   "cell_type": "code",
   "execution_count": null,
   "metadata": {},
   "outputs": [],
   "source": [
    "# 10. Use del.\n",
    "\n",
    "dogs = ['border collie', 'australian cattle dog', 'labrador retriever']\n",
    "#Remove the first dog from the list.\n",
    "del dogs[0]\n",
    "print(dogs)"
   ]
  },
  {
   "cell_type": "code",
   "execution_count": null,
   "metadata": {},
   "outputs": [],
   "source": [
    "# 10.2. Use remove\n",
    "\n",
    "dogs = ['border collie', 'australian cattle dog', 'labrador retriever']\n",
    "#Remove the first dog from the list.\n",
    "dogs.remove('australian cattle dog')\n",
    "print(dogs)"
   ]
  },
  {
   "cell_type": "code",
   "execution_count": null,
   "metadata": {},
   "outputs": [],
   "source": [
    "# 10.3. Use pop and choose positions from list.\n",
    "\n",
    "dogs = ['border collie', 'australian cattle dog', 'labrador retriever']\n",
    "#Remove the first dog from the list.\n",
    "last_dogs = dogs.pop()\n",
    "\n",
    "print(last_dogs)\n",
    "print(dogs)\n"
   ]
  },
  {
   "cell_type": "code",
   "execution_count": null,
   "metadata": {},
   "outputs": [],
   "source": [
    "# 10.4. Use pop.\n",
    "\n",
    "dogs = ['border collie', 'australian cattle dog', 'labrador retriever']\n",
    "#Remove the first dog from the list.\n",
    "first_dogs = dogs.pop(0)\n",
    "\n",
    "print(first_dogs)\n",
    "print(dogs)"
   ]
  },
  {
   "cell_type": "code",
   "execution_count": null,
   "metadata": {},
   "outputs": [],
   "source": [
    "# 11. loops, Arrays.\n",
    "\n",
    "numlist = []\n",
    "print(\"Enter total number of elements: \\t\")\n",
    "n = int(input())\n",
    "for i in range(1, n + 1):\n",
    "    print(\"Enter element.\")\n",
    "    element = int(input())\n",
    "    numlist.append(element)\n",
    "\n",
    "    evenlist = []\n",
    "    Oddlist = []\n",
    "\n",
    "    for j in numlist:\n",
    "        if j % 2 == 0:\n",
    "            evenlist.append(j)\n",
    "        else:\n",
    "            Oddlist.append(j)\n",
    "\n",
    "    print(\"Even numbers list \\t: \", evenlist)\n",
    "    print(\"Odd numbers list \\t: \", Oddlist)"
   ]
  },
  {
   "cell_type": "code",
   "execution_count": null,
   "metadata": {},
   "outputs": [],
   "source": [
    "\n",
    "# Challenge: add Sum and Average in loops\n",
    "\n",
    "numlist = []\n",
    "print(\"Enter total number of elements: \\t\")\n",
    "n = int(input())\n",
    "\n",
    "for i in range(1, n + 1):\n",
    "    print(\"Enter element.\")\n",
    "    element = int(input())\n",
    "    numlist.append(element)\n",
    "\n",
    "    evenlist = []\n",
    "    Oddlist = []\n",
    "\n",
    "    for j in numlist:\n",
    "        if j % 2 == 0:\n",
    "            evenlist.append(j)\n",
    "        else:\n",
    "            Oddlist.append(j)\n",
    "\n",
    "    print(\"Even numbers list \\t: \", evenlist)\n",
    "    print(\"Odd numbers list \\t: \", Oddlist)\n",
    "\n",
    "total = sum(numlist)\n",
    "average = total / n\n",
    "\n",
    "print(\"Sum of all numbers \\t: \", total)\n",
    "print(\"Average of all numbers \\t: \", average)"
   ]
  }
 ],
 "metadata": {
  "language_info": {
   "name": "python"
  }
 },
 "nbformat": 4,
 "nbformat_minor": 2
}
