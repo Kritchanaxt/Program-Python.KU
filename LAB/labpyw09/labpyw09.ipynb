{
 "cells": [
  {
   "cell_type": "code",
   "execution_count": 1,
   "metadata": {},
   "outputs": [
    {
     "name": "stdout",
     "output_type": "stream",
     "text": [
      "6 3 meows!\n"
     ]
    }
   ],
   "source": [
    "\n",
    "#* Simple-Inheritance\n",
    "\n",
    "class Animal:\n",
    "    def __init__(self, name):\n",
    "        self.name = name\n",
    "    \n",
    "    def speak(self):\n",
    "        print(f\"{self.name} make a sound.\")\n",
    "\n",
    "class Cat(Animal):\n",
    "    def __init__(self, name):\n",
    "        super().__init__(name)\n",
    "\n",
    "    def speak(self):\n",
    "        print(f\"{self.name} meows!\")\n",
    "\n",
    "cat_name = input(\"Cat Name: \")\n",
    "cat = Cat(cat_name)\n",
    "cat.speak()"
   ]
  },
  {
   "cell_type": "code",
   "execution_count": 2,
   "metadata": {},
   "outputs": [
    {
     "name": "stdout",
     "output_type": "stream",
     "text": [
      "This is a squarered with an area of 100.\n"
     ]
    }
   ],
   "source": [
    "\n",
    "#* Multiple-Inheritance\n",
    "\n",
    "class Shape:\n",
    "    def __init__(self, name):\n",
    "        self.name = name\n",
    "\n",
    "    def area(self):\n",
    "        pass\n",
    "\n",
    "class Color:\n",
    "    def __init__(self, color):\n",
    "        self.color = color\n",
    "\n",
    "class ColoredShape(Shape, Color):\n",
    "    def __init__(self, name, color):\n",
    "        Shape.__init__(self, name)\n",
    "        Color.__init__(self, color)\n",
    "\n",
    "    def describe(self):\n",
    "        print(f\"This is a {self.name}{self.color} with an area of {self.area()}.\")\n",
    "\n",
    "class Square(ColoredShape):\n",
    "    def __init__(self, side_length, color):\n",
    "        super().__init__(\"square\", color)\n",
    "        self.side_length = side_length\n",
    "\n",
    "    def area(self):\n",
    "        return self.side_length **2\n",
    "    \n",
    "square = Square(10, \"red\")\n",
    "square.describe()\n"
   ]
  },
  {
   "cell_type": "code",
   "execution_count": 3,
   "metadata": {},
   "outputs": [
    {
     "name": "stdout",
     "output_type": "stream",
     "text": [
      "True\n",
      "False\n",
      "False\n",
      "True\n"
     ]
    }
   ],
   "source": [
    "\n",
    "#* Email Validator\n",
    "\n",
    "class EmailValidator:\n",
    "\n",
    "    def __init__(self, min_length, mails, domains):\n",
    "        self.min_length = min_length\n",
    "        self.mails= mails\n",
    "        self.domains = domains\n",
    "\n",
    "    def _is_name_valid(self, name):\n",
    "        return len(name) >= self.min_length\n",
    "    \n",
    "    def _is_mail_valid(self, mail):\n",
    "        return mail in mails\n",
    "    \n",
    "    def _is_domain_valid(self, domain):\n",
    "        return domain in domains\n",
    "    \n",
    "    def validate(self, email):\n",
    "        name, rest = email.split('@')\n",
    "        mail, domain = rest.split('.')\n",
    "        if self._is_name_valid(name) and self._is_domain_valid(domain) and self._is_mail_valid(mail):\n",
    "            return True\n",
    "        return False\n",
    "    \n",
    "mails = [\"gmail\", \"softuni\"]\n",
    "domains = [\"com\", \"bg\"]\n",
    "email_validator = EmailValidator(2, mails, domains)\n",
    "print(email_validator.validate(\"pe77er@gmail.com\"))\n",
    "print(email_validator.validate(\"georgios@gmail.net\"))\n",
    "print(email_validator.validate(\"stamatito@abv.net\"))\n",
    "print(email_validator.validate(\"abv@softuni.bg\"))"
   ]
  },
  {
   "cell_type": "code",
   "execution_count": 10,
   "metadata": {},
   "outputs": [
    {
     "name": "stdout",
     "output_type": "stream",
     "text": [
      "1984 by George Orwell, published in 1949\n",
      "[The Catcher in the Rye by J.D. Salinger, published in 1951, To Kill a Mockingbird by Harper Lee, published in 1960, 1984 by George Orwell, published in 1949, Pride and Prejudice by Jane Austen, published in 1813]\n"
     ]
    }
   ],
   "source": [
    "\n",
    "#* Encapsulation2\n",
    "\n",
    "class Library:\n",
    "    def __init__(self, books):\n",
    "        self._books = books\n",
    " \n",
    "    def add_book(self, book):\n",
    "        self._books.append(book)\n",
    " \n",
    "    def remove_book(self, book):\n",
    "        if book not in self._books:\n",
    "            raise ValueError(\"Book not found\")\n",
    "        self._books.remove(book)\n",
    " \n",
    "    def search_book(self, title):\n",
    "        for book in self._books:\n",
    "            if book.title == title:\n",
    "                return book\n",
    "        return None\n",
    " \n",
    " \n",
    "class Book:\n",
    "    def __init__(self, title, author, year):\n",
    "        self.title = title\n",
    "        self.author = author\n",
    "        self.year = year\n",
    " \n",
    "    def __repr__(self):\n",
    "        return f\"{self.title} by {self.author}, published in {self.year}\"\n",
    " \n",
    "library = Library([\n",
    "    Book(\"The Catcher in the Rye\", \"J.D. Salinger\", 1951),\n",
    "    Book(\"To Kill a Mockingbird\", \"Harper Lee\", 1960),\n",
    "    Book(\"1984\", \"George Orwell\", 1949)\n",
    "])\n",
    " \n",
    "library.add_book(Book(\"Pride and Prejudice\", \"Jane Austen\", 1813))\n",
    "print(library.search_book(\"1984\")) \n",
    "print(library._books)\n",
    "# library.remove_book(Book(\"The Great Gatsby\", \"F. Scott Fitzgerald\", 1925))\n",
    " \n"
   ]
  },
  {
   "cell_type": "code",
   "execution_count": 7,
   "metadata": {},
   "outputs": [
    {
     "name": "stdout",
     "output_type": "stream",
     "text": [
      "Area of square=  36.0\n",
      "Area of rectangle=  18.0\n"
     ]
    }
   ],
   "source": [
    "class Square:\n",
    "    def __init__(self, x):\n",
    "        self.x = x\n",
    "\n",
    "    def area(self):\n",
    "        print('Area of square = ', self.x * self.x)\n",
    "\n",
    "class Rectangle(Square):\n",
    "    def __init__(self, x, y):\n",
    "        super().__init__(x)\n",
    "        self.y = y\n",
    "\n",
    "    def area(self):\n",
    "        super().area()\n",
    "        print('Area of rectangle = ', self.x * self.y)\n",
    "\n",
    "a, b = [float(x) for x in input(\"Enter two measurements: \").split()]\n",
    "\n",
    "r = Rectangle(a, b)\n",
    "\n",
    "r.area()\n"
   ]
  },
  {
   "cell_type": "code",
   "execution_count": 2,
   "metadata": {},
   "outputs": [
    {
     "name": "stdout",
     "output_type": "stream",
     "text": [
      "1000\n",
      "1500\n",
      "1300\n"
     ]
    }
   ],
   "source": [
    "class BankAccount:\n",
    "    def __init__(self, balance):  \n",
    "        self._balance = balance\n",
    "\n",
    "    def get_balance(self):\n",
    "        return self._balance\n",
    "    \n",
    "    def deposit(self, amount):\n",
    "        self._balance += amount\n",
    "\n",
    "    def withdraw(self, amount):\n",
    "        if amount > self._balance:\n",
    "            raise ValueError(\"Insufficient funds\")\n",
    "        self._balance -= amount\n",
    "\n",
    "account = BankAccount(1000)\n",
    "print(account.get_balance()) \n",
    "\n",
    "account.deposit(500)\n",
    "print(account.get_balance())  \n",
    "\n",
    "account.withdraw(200)\n",
    "print(account.get_balance())  "
   ]
  },
  {
   "cell_type": "code",
   "execution_count": 12,
   "metadata": {},
   "outputs": [
    {
     "name": "stdout",
     "output_type": "stream",
     "text": [
      "I am a cat. My name is Kitty. I am 2.5 years old.\n",
      "Meow\n",
      "I am a Cow. My name is Fluffy. I am 4 years old.\n",
      "Moo\n"
     ]
    }
   ],
   "source": [
    "\n",
    "#* Polymorphism\n",
    "\n",
    "class Cat:\n",
    "    def __init__(self, name, age):\n",
    "        self.name = name\n",
    "        self.age = age\n",
    "\n",
    "    def info(self):\n",
    "        print(f\"I am a cat. My name is {self.name}. I am {self.age} years old.\")\n",
    "    \n",
    "    def make_sound(self):\n",
    "        print(\"Meow\")\n",
    "\n",
    "class Cow:\n",
    "    def __init__(self, name, age):\n",
    "        self.name = name\n",
    "        self.age = age\n",
    "\n",
    "    def info(self): \n",
    "        print(f\"I am a Cow. My name is {self.name}. I am {self.age} years old.\")\n",
    "\n",
    "    def make_sound(self):\n",
    "        print(\"Moo\")\n",
    "\n",
    "cat = Cat(\"Kitty\", 2.5)\n",
    "cow = Cow(\"Fluffy\", 4)\n",
    "\n",
    "for animal in (cat, cow):\n",
    "    animal.info()\n",
    "    animal.make_sound()"
   ]
  },
  {
   "cell_type": "code",
   "execution_count": 15,
   "metadata": {},
   "outputs": [
    {
     "name": "stdout",
     "output_type": "stream",
     "text": [
      "Sum of three=  45\n",
      "Sum of two=  36.05\n",
      "Please enter two or three arguments\n"
     ]
    }
   ],
   "source": [
    "\n",
    "#* method overloading\n",
    "\n",
    "class MyClass:\n",
    "    def sum(self, a=None, b=None, c=None):\n",
    "        if a!=None and b!=None and c!=None:\n",
    "            print('Sum of three= ', a + b + c)\n",
    "        elif a!=None and b!=None:\n",
    "            print('Sum of two= ', a + b)\n",
    "        else:\n",
    "            print('Please enter two or three arguments')\n",
    "\n",
    "m = MyClass()\n",
    "m.sum(10, 15, 20)\n",
    "m.sum(10.5, 25.55)\n",
    "m.sum(100)"
   ]
  },
  {
   "cell_type": "code",
   "execution_count": 16,
   "metadata": {},
   "outputs": [
    {
     "name": "stdout",
     "output_type": "stream",
     "text": [
      "Similar to Method Overloading\n",
      "\n",
      "Single Argument  -> Sum:  10\n",
      "Two Arguments  -> Sum:  32\n",
      "Multiple Arguments  -> Sum:  15\n"
     ]
    }
   ],
   "source": [
    "def sum_number(*args):\n",
    "    result = 0 \n",
    "\n",
    "    for num in args:\n",
    "        result += num\n",
    "\n",
    "    print(\"Sum: \", result)\n",
    "\n",
    "if(__name__ == \"__main__\"):\n",
    "    print(\"Similar to Method Overloading\\n\")\n",
    "    print(\"Single Argument  ->\", end = \" \")\n",
    "    sum_number(10)\n",
    "\n",
    "    print(\"Two Arguments  ->\", end = \" \")\n",
    "    sum_number(30,2)\n",
    "\n",
    "    print(\"Multiple Arguments  ->\", end = \" \")\n",
    "    sum_number(1, 2, 3, 4, 5,)\n",
    "\n",
    "#* ทำให้เป็น Polymorphism\n"
   ]
  },
  {
   "cell_type": "code",
   "execution_count": 6,
   "metadata": {},
   "outputs": [
    {
     "name": "stdout",
     "output_type": "stream",
     "text": [
      "Vegetable\n",
      "Green\n",
      "Fruits\n",
      "Yellow\n"
     ]
    }
   ],
   "source": [
    "class Beans():\n",
    "    def type(self):\n",
    "        print(\"Vegetable\")\n",
    "    \n",
    "    def color(self):\n",
    "        print(\"Green\")\n",
    "\n",
    "class Mango():\n",
    "    def type(self):\n",
    "        print(\"Fruits\")\n",
    "\n",
    "    def color(self):\n",
    "        print(\"Yellow\")\n",
    "\n",
    "def func(obj):\n",
    "       obj.type()\n",
    "       obj.color()\n",
    "\n",
    "obj_beans = Beans()\n",
    "obj_mango = Mango()\n",
    "\n",
    "func(obj_beans)\n",
    "func(obj_mango)"
   ]
  },
  {
   "cell_type": "code",
   "execution_count": 7,
   "metadata": {},
   "outputs": [
    {
     "name": "stdout",
     "output_type": "stream",
     "text": [
      "Grumpy\n",
      "Meow\n",
      "Happy\n",
      "woof\n"
     ]
    }
   ],
   "source": [
    "class Cat:\n",
    "    def mood(self):\n",
    "        print(\"Grumpy\")\n",
    "\n",
    "    def sound(self):\n",
    "        print(\"Meow\")\n",
    "\n",
    "class Dog:\n",
    "    def mood(self):\n",
    "        print(\"Happy\")\n",
    "\n",
    "    def sound(self):\n",
    "        print(\"woof\")\n",
    "\n",
    "hello_kitty = Cat()\n",
    "hello_puppy = Dog()\n",
    "\n",
    "for pet in (hello_kitty, hello_puppy):\n",
    "    pet.mood()\n",
    "    pet.sound()\n",
    "    "
   ]
  },
  {
   "cell_type": "code",
   "execution_count": 21,
   "metadata": {},
   "outputs": [
    {
     "name": "stdout",
     "output_type": "stream",
     "text": [
      "Numwan has 500 \n",
      "Cathy has 300 \n",
      "Kik has 200 \n"
     ]
    }
   ],
   "source": [
    "class bankAccount:\n",
    "    def __init__(self, name, balance = 0):\n",
    "        self.name = name\n",
    "        self.balance = balance\n",
    "    \n",
    "    def __lt__(self, other):\n",
    "        return self.balance < other.balance\n",
    "    \n",
    "    def __gt__(self, other):\n",
    "        return self.balance > other.balance\n",
    "\n",
    "    def __repr__(self):\n",
    "        return f\"{self.name} has {self.balance} \"\n",
    "    \n",
    "kik = bankAccount(\"Kik\", 200)\n",
    "cathy = bankAccount(\"Cathy\", 300)\n",
    "numwan = bankAccount(\"Numwan\",500)\n",
    "\n",
    "accounts = [kik, cathy, numwan]\n",
    "\n",
    "account_sorted = sorted(accounts,reverse=True)\n",
    "\n",
    "for account in account_sorted:\n",
    "    print(account)\n",
    "\n",
    "        \n"
   ]
  },
  {
   "cell_type": "code",
   "execution_count": 3,
   "metadata": {},
   "outputs": [
    {
     "name": "stdout",
     "output_type": "stream",
     "text": [
      "Numwan has 500\n",
      "Cathy has 300\n",
      "Kik has 200\n"
     ]
    }
   ],
   "source": [
    "class BankAccount:\n",
    "    def __init__(self, name, balance=0):\n",
    "        self.name, self.balance = name, balance\n",
    "    \n",
    "    def __lt__(self, other):\n",
    "        return self.balance < other.balance\n",
    "    \n",
    "    def __gt__(self, other):\n",
    "        return self.balance > other.balance\n",
    "\n",
    "    def __repr__(self):\n",
    "        return f\"{self.name} has {self.balance}\"\n",
    "    \n",
    "accounts = sorted([BankAccount(\"Kik\", 200), BankAccount(\"Cathy\", 300), BankAccount(\"Numwan\", 500)], reverse=True, key=lambda x: x.balance)\n",
    "\n",
    "print(*accounts, sep='\\n')\n"
   ]
  }
 ],
 "metadata": {
  "kernelspec": {
   "display_name": "Python 3",
   "language": "python",
   "name": "python3"
  },
  "language_info": {
   "codemirror_mode": {
    "name": "ipython",
    "version": 3
   },
   "file_extension": ".py",
   "mimetype": "text/x-python",
   "name": "python",
   "nbconvert_exporter": "python",
   "pygments_lexer": "ipython3",
   "version": "3.12.4"
  }
 },
 "nbformat": 4,
 "nbformat_minor": 2
}
