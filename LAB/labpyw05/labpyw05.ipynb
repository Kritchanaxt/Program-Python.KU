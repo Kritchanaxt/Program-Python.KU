{
 "cells": [
  {
   "cell_type": "code",
   "execution_count": null,
   "metadata": {},
   "outputs": [],
   "source": [
    "# 1.\n",
    "\n",
    "def function_1():\n",
    "    print(\"Hello World!\")\n",
    "\n",
    "function_1()"
   ]
  },
  {
   "cell_type": "code",
   "execution_count": null,
   "metadata": {},
   "outputs": [],
   "source": [
    "# 2.\n",
    "\n",
    "def function_2(x):\n",
    "    print(x)\n",
    "\n",
    "function_2()"
   ]
  },
  {
   "cell_type": "code",
   "execution_count": null,
   "metadata": {},
   "outputs": [],
   "source": [
    "# 3.\n",
    "\n",
    "def function_3(x,y,z):\n",
    "    print(x)\n",
    "    print(y)\n",
    "    print(z)\n",
    "\n",
    "function_3(1,2,3)"
   ]
  },
  {
   "cell_type": "code",
   "execution_count": null,
   "metadata": {},
   "outputs": [],
   "source": [
    "# 4.\n",
    "\n",
    "def add(x, y):\n",
    "    return x + y\n",
    "\n",
    "x = 10\n",
    "y = 20\n",
    "result = add(x, y)\n",
    "\n",
    "print(\"Add results\", x, \"and\", y, \"is\", result)\n"
   ]
  },
  {
   "cell_type": "code",
   "execution_count": null,
   "metadata": {},
   "outputs": [],
   "source": [
    "# 5.\n",
    "\n",
    "def swap(x,y):\n",
    "    return y,x\n",
    "\n",
    "x = 10\n",
    "y = 20\n",
    "print(f'Before swap: {x=}, {y=}')\n",
    "x,y = swap(x,y)\n",
    "print(f'After swap: {x=}, {y=}')"
   ]
  },
  {
   "cell_type": "code",
   "execution_count": null,
   "metadata": {},
   "outputs": [],
   "source": [
    "# 6.\n",
    "\n",
    "lst = [i for i in range(1,11)]\n",
    "lst_square = list(map(lambda x: x*x, lst))\n",
    "print(\"Original list: \", list)\n",
    "print(lst_square)"
   ]
  },
  {
   "cell_type": "code",
   "execution_count": null,
   "metadata": {},
   "outputs": [],
   "source": [
    "# 7.\n",
    "\n",
    "lst=[i for i in range(1,11)]\n",
    "even_numbers = list(map(lambda x: x**2, filter(lambda x: x%2==0, lst)))\n",
    "print(\"Original list: \", lst)\n",
    "print(even_numbers)"
   ]
  },
  {
   "cell_type": "code",
   "execution_count": null,
   "metadata": {},
   "outputs": [],
   "source": [
    "# 8. User-Defined\n",
    "\n",
    "def even(x):\n",
    "    return x%2==0 \n",
    "\n",
    "def squared(x):\n",
    "    return x*x\n",
    "\n",
    "lst = [i for i in range(1,11)]\n",
    "even_numbers = list(map(squared,filter(even,lst)))\n",
    "print(\"Original list: \", lst)\n",
    "print(even_numbers)"
   ]
  },
  {
   "cell_type": "code",
   "execution_count": null,
   "metadata": {},
   "outputs": [],
   "source": [
    "# 9.\n",
    "\n",
    "even_numbers = list(filter(lambda x: x%2==0, range(1,21)))\n",
    "print(even_numbers)"
   ]
  },
  {
   "cell_type": "code",
   "execution_count": null,
   "metadata": {},
   "outputs": [],
   "source": [
    "# 10.\n",
    "\n",
    "x = 99 # x is global variable  \n",
    "def func(y):\n",
    "    z = x + y \n",
    "    return z\n",
    "print(func(1))"
   ]
  },
  {
   "cell_type": "code",
   "execution_count": null,
   "metadata": {},
   "outputs": [],
   "source": [
    "# 11.\n",
    "\n",
    "x = 88\n",
    "def func1(x):\n",
    "    x = 99\n",
    "    return x\n",
    "\n",
    "print(func1(x))\n",
    "print(x)"
   ]
  },
  {
   "cell_type": "code",
   "execution_count": null,
   "metadata": {},
   "outputs": [],
   "source": [
    "# 12.\n",
    "\n",
    "global_var = \"T am a global variable\"\n",
    "def my_function():\n",
    "    print(\"Inside the function\", global_var)\n",
    "\n",
    "my_function()\n",
    "print(\"Outside the function\", global_var)"
   ]
  },
  {
   "cell_type": "code",
   "execution_count": null,
   "metadata": {},
   "outputs": [],
   "source": [
    "# 13.\n",
    "\n",
    "def friends():\n",
    "    global s\n",
    "    s += 'Hello ja'\n",
    "    print(\"Inside Function\", s)\n",
    "\n",
    "s = \"Yes \"\n",
    "friends()"
   ]
  },
  {
   "cell_type": "code",
   "execution_count": null,
   "metadata": {},
   "outputs": [],
   "source": [
    "# 14.\n",
    "\n",
    "def fun(s,num,d):\n",
    "    s = \"Hello\"\n",
    "    num = 10\n",
    "    d = (5,6,7)\n",
    "    print(\"Inside function call\", s,num,d)\n",
    "\n",
    "s = \"Open genius\"\n",
    "num = 1\n",
    "d = (1,2,3)\n",
    "print(\"Before function call\", s,num,d)\n",
    "fun(s,num,d)\n",
    "print(\"Outside function call\", s,num,d)"
   ]
  },
  {
   "cell_type": "code",
   "execution_count": null,
   "metadata": {},
   "outputs": [],
   "source": [
    "# 15.\n",
    "\n",
    "pi = 3.14\n",
    "def circle_area(r):\n",
    "    area = pi * r ** 2\n",
    "    return area\n",
    "\n",
    "a = circle_area(5)\n",
    "print(a)"
   ]
  },
  {
   "cell_type": "code",
   "execution_count": null,
   "metadata": {},
   "outputs": [],
   "source": [
    "# 16.\n",
    "\n",
    "total = 0\n",
    "def sum(arg1, arg2):\n",
    "    \"Add both the parameters\"\n",
    "    total = arg1 + arg2\n",
    "    print(\"Inside the function local total:\", total)\n",
    "    return total\n",
    "    \n",
    "sum(10, 20)\n",
    "print(\"Outside the function local total:\",total)"
   ]
  }
 ],
 "metadata": {
  "language_info": {
   "name": "python"
  }
 },
 "nbformat": 4,
 "nbformat_minor": 2
}
