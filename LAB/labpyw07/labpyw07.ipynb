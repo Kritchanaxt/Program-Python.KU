{
 "cells": [
  {
   "cell_type": "code",
   "execution_count": null,
   "metadata": {},
   "outputs": [],
   "source": [
    "# 1.\n",
    "\n",
    "l = []\n",
    "for i in range(10,100):\n",
    "    if (i%7==0) and (i%5==0):\n",
    "        l.append(str(i))\n",
    "\n",
    "print(','. join(l))"
   ]
  },
  {
   "cell_type": "code",
   "execution_count": null,
   "metadata": {},
   "outputs": [],
   "source": [
    "# 2.\n",
    " \n",
    "tp = (1,2,3,4,5,6,7,8,9,10)\n",
    "tp1 = tp[:5]\n",
    "tp2 = tp[5:]\n",
    "print(tp1)\n",
    "print(tp2)"
   ]
  },
  {
   "cell_type": "code",
   "execution_count": null,
   "metadata": {},
   "outputs": [],
   "source": [
    "# 3. Recursive function\n",
    "\n",
    "def fact(x):\n",
    "    if x == 0:\n",
    "        return 1\n",
    "    return x * fact(x - 1)\n",
    "\n",
    "x = int(input(\"Enter a number: \"))\n",
    "print(f\"The factorial of {x} is {fact(x)}\")\n"
   ]
  },
  {
   "cell_type": "code",
   "execution_count": null,
   "metadata": {},
   "outputs": [],
   "source": [
    "# 4.\n",
    "\n",
    "n = int(input(\"Enter a number: \"))\n",
    "d = dict()\n",
    "\n",
    "for i in range(1, n+1):\n",
    "    d[i] = i * i\n",
    "\n",
    "print(d)\n"
   ]
  },
  {
   "cell_type": "code",
   "execution_count": null,
   "metadata": {},
   "outputs": [],
   "source": [
    "# 5.\n",
    "\n",
    "values = input(\"Enter Value: \")\n",
    "l = values.split(\",\")\n",
    "t = tuple(l)\n",
    "print(l)\n",
    "print(t)"
   ]
  },
  {
   "cell_type": "code",
   "execution_count": null,
   "metadata": {},
   "outputs": [],
   "source": [
    "# 6.\n",
    "\n",
    "import math\n",
    "\n",
    "c = 50\n",
    "h = 30\n",
    "\n",
    "items = input(\"Enter comma-separated numbers: \").split(',')\n",
    "\n",
    "values = []\n",
    "for d in items:\n",
    "    q = (2 * c * float(d)) / h\n",
    "    value = int(round(math.sqrt(q)))\n",
    "    values.append(str(value))\n",
    "\n",
    "print(values)\n",
    "print(','.join(values))\n"
   ]
  },
  {
   "cell_type": "code",
   "execution_count": null,
   "metadata": {},
   "outputs": [],
   "source": [
    "# 7.\n",
    "\n",
    "items = [x for x in input(\"Enter comma-separated values: \").split(',')]\n",
    "items.sort() #? Sort แบบ String value\n",
    "print(\"Sorted list:\", items)\n",
    "print(\"Comma-separated sorted list:\", ','.join(items))\n",
    "\n",
    "#* Sort - String, Integer Float\n",
    "#* anna, beauty, lovely, cute, lisa, girl\n",
    "#* 12, 9 -> String"
   ]
  },
  {
   "cell_type": "code",
   "execution_count": null,
   "metadata": {},
   "outputs": [],
   "source": [
    "# 8.\n",
    "\n",
    "input_str = input(\"Enter dimensions (row,col): \")\n",
    "dimensions = [int(x) for x in input_str.split(',')]\n",
    "rowNum = dimensions[0]\n",
    "colNum = dimensions[1]\n",
    "multilist = [[0 for col in range(colNum)] for row in range(rowNum)]\n",
    "\n",
    "for row in range(rowNum):\n",
    "    for col in range(colNum):\n",
    "        multilist[row][col] = row * col\n",
    "\n",
    "print(multilist)\n"
   ]
  },
  {
   "cell_type": "code",
   "execution_count": null,
   "metadata": {},
   "outputs": [],
   "source": [
    "# 9.\n",
    "\n",
    "lines = []\n",
    "while True:\n",
    "    s = input(\"Enter lines:\")\n",
    "    if s: \n",
    "        lines.append(s.upper())\n",
    "    else: \n",
    "        break;\n",
    "\n",
    "for sentence in lines:\n",
    "    print(sentence)"
   ]
  },
  {
   "cell_type": "code",
   "execution_count": null,
   "metadata": {},
   "outputs": [],
   "source": [
    "\n",
    "# 9.1. Recursive\n",
    "\n",
    "def f(n):\n",
    "    if n == 0:\n",
    "        return 0\n",
    "    elif n == 1:\n",
    "        return 1\n",
    "    else:\n",
    "        return f(n-1) + f(n-2)\n",
    "\n",
    "n = int(input(\"Enter a number: \"))\n",
    "print(f(n))"
   ]
  },
  {
   "cell_type": "code",
   "execution_count": null,
   "metadata": {},
   "outputs": [],
   "source": [
    "# 10.\n",
    "\n",
    "president_status = {'Obama': 'Hawaii', 'Bush': 'Texas', 'Clinton': 'Arkansas'}\n",
    "print(type(president_status))\n",
    "\n",
    "print(president_status[\"Clinton\"])\n",
    "print(president_status.keys())\n",
    "\n",
    "for item in president_status.keys():\n",
    "    print(item)\n",
    "\n",
    "print(president_status.values())\n",
    "print(president_status.items())\n",
    "\n",
    "#* define คือ ค่าคีย์\n",
    "\n",
    "for item in president_status:\n",
    "    print(item)\n"
   ]
  }
 ],
 "metadata": {
  "language_info": {
   "name": "python"
  }
 },
 "nbformat": 4,
 "nbformat_minor": 2
}
