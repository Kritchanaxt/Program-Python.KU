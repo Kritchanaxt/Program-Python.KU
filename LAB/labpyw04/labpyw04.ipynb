{
 "cells": [
  {
   "cell_type": "code",
   "execution_count": null,
   "metadata": {},
   "outputs": [],
   "source": [
    "# 1.Create dictionary\n",
    "\n",
    "a = {'Obama': 'Hawaii', 'Bush' : 'Texas', 'Clinton' : 'Arkansas', 'Trump' : 'New York'}\n",
    "\n",
    "type(a)\n",
    "\n",
    "print(a['Obama'])\n",
    "print(a['Bush'])\n",
    "print(a['Clinton'])\n",
    "print(a['Trump'])\n",
    "\n",
    "a.keys()\n",
    "a.values()\n",
    "a.items()\n",
    "\n",
    "color = ['red', 'orange', 'yellow', 'green', 'blue', 'indigo', 'violet']\n",
    "d = dict()\n",
    "[item.upper() for item in a.keys()]\n"
   ]
  },
  {
   "cell_type": "code",
   "execution_count": null,
   "metadata": {},
   "outputs": [],
   "source": [
    "# 2. Loop list of creating Dictionary\n",
    "\n",
    "color = ['red', 'orange', 'yellow', 'green', 'blue', 'indigo', 'violet']\n",
    "d = dict()\n",
    "for color in color:\n",
    "    key = len(color)\n",
    "    if key not in d:\n",
    "        d[key] = []\n",
    "        d[key].append(color)\n",
    "print(f\"d: {d}\")\n",
    "\n"
   ]
  },
  {
   "cell_type": "code",
   "execution_count": null,
   "metadata": {},
   "outputs": [],
   "source": [
    "# 3. Membership - in, not in\n",
    "\n",
    "'Obama' in a\n",
    "'Franklin' not in a"
   ]
  },
  {
   "cell_type": "code",
   "execution_count": null,
   "metadata": {},
   "outputs": [],
   "source": [
    "# 4. Create Dict 1key- M values\n",
    "\n",
    "shopping = {'produce': ['apples', 'orange', 'spinach', 'carrots'], 'meat': ['ground beef', 'chicken breast']}\n",
    "shopping['meat']\n",
    "shopping['produce'] \n",
    "\n",
    "print(\"Produce items on your list:\")\n",
    "for item in shopping['produce']:\n",
    "    print(\"* \" + item, end=' ')"
   ]
  },
  {
   "cell_type": "code",
   "execution_count": null,
   "metadata": {},
   "outputs": [],
   "source": [
    "# 5.Nested Dict\n",
    "\n",
    "shopping1 =  {'produce': {'fruits': ['apple', 'orange'], 'vegetables': ['spinach', 'carrots']}, 'meat': ['ground beef', 'chicken breast']}\n",
    "\n",
    "# 5.1\n",
    "shopping1['produce']['fruits']\n",
    "\n",
    "# 5.2\n",
    "shopping1['produce'].keys()\n",
    "\n",
    "# 5.3 the first fruit\n",
    "shopping1['produce']['fruits'][0]\n",
    "\n",
    "# 5.4 the second vegetables\n",
    "shopping1['produce']['vegetables'][1]"
   ]
  },
  {
   "cell_type": "code",
   "execution_count": null,
   "metadata": {},
   "outputs": [],
   "source": [
    "# 6 .Adding new item\n",
    "\n",
    "president_status = {'Obama': 'Hawaii', 'Bush': 'Texas', 'Clinton': 'Arkansas', 'Trump': 'New York'}\n",
    " \n",
    "#? new member\n",
    "president_status['Reagan'] = 'California'\n",
    "\n",
    "#* 6.2\n",
    "for item in president_status:\n",
    "    print(item)"
   ]
  },
  {
   "cell_type": "code",
   "execution_count": null,
   "metadata": {},
   "outputs": [],
   "source": [
    "# 7\n",
    "\n",
    "a ={'a':1,'a':2,'a':3,'a':4,'a':5}\n",
    "print(a['a'])"
   ]
  },
  {
   "cell_type": "code",
   "execution_count": null,
   "metadata": {},
   "outputs": [],
   "source": [
    "# 8. define tuple, cast list --> tuple\n",
    "\n",
    "tuple([1, 2, 3, 4, 5])"
   ]
  },
  {
   "cell_type": "code",
   "execution_count": 3,
   "metadata": {},
   "outputs": [
    {
     "data": {
      "text/plain": [
       "('beta', 'gamma')"
      ]
     },
     "execution_count": 3,
     "metadata": {},
     "output_type": "execute_result"
    }
   ],
   "source": [
    "\n",
    "# 9.\n",
    "a = set([1,2,3,4]) \n",
    "b = set([3,4,5,6])\n",
    "a.add(5)\n",
    "\n",
    "# 9.2\n",
    "a | b #* union\n",
    "a & b #* intersection\n",
    "a - b #* difference\n",
    "a.issubset(b) \n",
    "\n",
    "# 9.3\n",
    "t = (\"alpha\", \"beta\", \"gamma\", \"delta\")\n",
    "t[-2]\n",
    "t[1:3]\n",
    "# t.append(\"epsilon\")"
   ]
  },
  {
   "cell_type": "code",
   "execution_count": null,
   "metadata": {},
   "outputs": [],
   "source": [
    "# 10\n",
    "\n",
    "counts = {'chuck' :1, 'annie' :2, 'jan' :3}\n",
    "lst = list(counts.keys())\n",
    "print(lst)\n",
    "lst.sort()\n",
    "for key in lst:\n",
    "    print(key, counts[key])"
   ]
  },
  {
   "cell_type": "code",
   "execution_count": null,
   "metadata": {},
   "outputs": [],
   "source": [
    "# 11.Exercise\n",
    "\n",
    "sum = 0  \n",
    "for i in range(10):\n",
    "    for j in range(10):\n",
    "        print(i,j)\n",
    "print(sum)"
   ]
  },
  {
   "cell_type": "code",
   "execution_count": 4,
   "metadata": {},
   "outputs": [
    {
     "name": "stdout",
     "output_type": "stream",
     "text": [
      "    *\n",
      "   ***\n",
      "  *****\n",
      " *******\n",
      "*********\n",
      "        *\n",
      "      ***\n",
      "    *****\n",
      "  *******\n",
      "*********\n",
      "*\n",
      "***\n",
      "*****\n",
      "*******\n",
      "*********\n"
     ]
    }
   ],
   "source": [
    "# Challenge04\n",
    "\n",
    "#! Method 1\n",
    "n = 5\n",
    "def pattern(n):\n",
    "     for i in  range(n):\n",
    "        num_start = 2 * i + 1\n",
    "        print(' ' * (n - i - 1) + '*' * num_start)\n",
    "\n",
    "pattern(n)\n",
    "\n",
    "#! Method 2\n",
    "n1 = 5\n",
    "for i in range(n1):\n",
    "    spaces = '  ' * (n - i - 1)\n",
    "    stars = '*' * (2 * i + 1)\n",
    "    print(spaces + stars)\n",
    "\n",
    "#! Method 3\n",
    "n2 = 5\n",
    "for i in range(n2):\n",
    "    print('*' * (2 * i + 1))"
   ]
  }
 ],
 "metadata": {
  "kernelspec": {
   "display_name": "Python 3",
   "language": "python",
   "name": "python3"
  },
  "language_info": {
   "codemirror_mode": {
    "name": "ipython",
    "version": 3
   },
   "file_extension": ".py",
   "mimetype": "text/x-python",
   "name": "python",
   "nbconvert_exporter": "python",
   "pygments_lexer": "ipython3",
   "version": "3.12.4"
  }
 },
 "nbformat": 4,
 "nbformat_minor": 2
}
