{
 "cells": [
  {
   "cell_type": "code",
   "execution_count": null,
   "metadata": {},
   "outputs": [],
   "source": [
    "\n",
    "#* 1.\n",
    "\n",
    "class Person:\n",
    "  pass\n",
    "print(Person)"
   ]
  },
  {
   "cell_type": "code",
   "execution_count": null,
   "metadata": {},
   "outputs": [],
   "source": [
    "\n",
    "#* 2.\n",
    "\n",
    "class Person:\n",
    "  def __init__(self, name, lastname):\n",
    "    self.name = name\n",
    "    self.lastname = lastname\n",
    "\n",
    "p = Person('Supasima' , 'Tongma')\n",
    "print(p.name,p.lastname)\n"
   ]
  },
  {
   "cell_type": "code",
   "execution_count": null,
   "metadata": {},
   "outputs": [],
   "source": [
    "\n",
    "#* 3.\n",
    "\n",
    "class Person:\n",
    "  def __init__(self, name, lastname, age, country, city):\n",
    "    self.name = name\n",
    "    self.lastname = lastname\n",
    "    self.age = age\n",
    "    self.country = country\n",
    "    self.city = city\n",
    "\n",
    "  def person_info(self):\n",
    "    return f'{self.name} {self.lastname} is {self.age} years old. She lives in {self.country}, {self.city}'\n",
    "\n",
    "p = Person('Supasima' , 'Tongma' , 21 , 'Thailand' , 'Sriracha')\n",
    "# print(p.name,p.lastname,p.age,p.country,p.city)\n",
    "print(p.person_info())\n"
   ]
  },
  {
   "cell_type": "code",
   "execution_count": null,
   "metadata": {},
   "outputs": [],
   "source": [
    "\n",
    "#* 4.\n",
    "\n",
    "class Person:\n",
    "  def __init__(self, firstname='Supasima', lastname='Rungrote', age=50, country='Finland', city='Helsinki'):\n",
    "    self.firstname = firstname\n",
    "    self.lastname = lastname\n",
    "    self.age = age\n",
    "    self.country = country\n",
    "    self.city = city\n",
    "\n",
    "  def person_info(self):\n",
    "    return f'{self.firstname} {self.lastname} is {self.age} years old. She lives in {self.country}, {self.city}'\n",
    "\n",
    "p1 = Person()\n",
    "print(p1.person_info())\n",
    "p2 = Person('John', 'Doe', 30, 'Nomanland', 'Noman city')\n",
    "print(p2.person_info())\n"
   ]
  },
  {
   "cell_type": "code",
   "execution_count": null,
   "metadata": {},
   "outputs": [],
   "source": [
    "\n",
    "#* 5.\n",
    "\n",
    "class Person:\n",
    "  def __init__(self, firstname='Supasima', lastname='Rungrote', age=50, country='Finland', city='Helsinki'):\n",
    "    self.firstname = firstname\n",
    "    self.lastname = lastname\n",
    "    self.age = age\n",
    "    self.country = country\n",
    "    self.city = city\n",
    "    self.skills = []\n",
    "\n",
    "  def person_info(self):\n",
    "    return f'{self.firstname} {self.lastname} is {self.age} years old. She lives in {self.country}, {self.city}'\n",
    "\n",
    "  def add_skill(self, skill):\n",
    "    self.skills.append(skill)\n",
    "\n",
    "p1 = Person()\n",
    "print(p1.person_info())\n",
    "p1.add_skill('HTML')\n",
    "p1.add_skill('CSS')\n",
    "p1.add_skill('JavaScript')\n",
    "p2 = Person('John', 'Doe', 30, 'Nomanland', 'Noman city')\n",
    "print(p2.person_info())\n",
    "print(p1.skills)\n",
    "print(p2.skills)\n",
    "p2.add_skill('Python')\n",
    "p2.add_skill('MongoDB')\n",
    "print(p2.skills)\n"
   ]
  },
  {
   "cell_type": "code",
   "execution_count": null,
   "metadata": {},
   "outputs": [],
   "source": [
    "\n",
    "#* 6.\n",
    "#? Inheritance\n",
    "\n",
    "class Student(Person):\n",
    "  pass\n",
    "\n",
    "s1 = Student('Eyob', 'Yetateh', 30, 'Finland', 'Helsinki')\n",
    "s2= Student('John', 'Doe', 20, 'Nomanland', 'Noman city')\n",
    "print(s1.person_info())\n",
    "s1.add_skill('JavaScript')\n",
    "s1.add_skill('React')\n",
    "s1.add_skill('Python')\n",
    "print(s1.skills)\n",
    "\n",
    "print(s2.person_info())\n",
    "s2.add_skill('Organizing')\n",
    "s2.add_skill('Marketing')\n",
    "s2.add_skill('Digital Marketing')\n",
    "print(s2.skills)\n",
    "\n"
   ]
  }
 ],
 "metadata": {
  "language_info": {
   "name": "python"
  }
 },
 "nbformat": 4,
 "nbformat_minor": 2
}
