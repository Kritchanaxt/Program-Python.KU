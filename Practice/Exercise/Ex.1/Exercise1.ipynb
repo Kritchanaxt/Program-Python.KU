{
 "cells": [
  {
   "cell_type": "code",
   "execution_count": 34,
   "metadata": {},
   "outputs": [
    {
     "name": "stdout",
     "output_type": "stream",
     "text": [
      "numbers:  ['1234']\n"
     ]
    }
   ],
   "source": [
    "# 1. Sum of Numbers in a List\n",
    "numbers = list(map(str, input(\"Enter numbers: \").split()))\n",
    "print(\"numbers: \", numbers)\n",
    "# print(\"Result:\", sum(numbers))\n"
   ]
  },
  {
   "cell_type": "code",
   "execution_count": 29,
   "metadata": {},
   "outputs": [
    {
     "name": "stdout",
     "output_type": "stream",
     "text": [
      "\"racecar\" is a Palindrome\n"
     ]
    }
   ],
   "source": [
    "# 2. Check if a Word is a Palindrome\n",
    "\n",
    "def palindrome(word):\n",
    "    return word == word[::-1]\n",
    "\n",
    "word = input(\"Enter a word to check: \")\n",
    "if palindrome(word):\n",
    "    print(f'\"{word}\" is a Palindrome')\n",
    "else:\n",
    "    print(f'\"{word}\" is not a Palindrome')"
   ]
  },
  {
   "cell_type": "code",
   "execution_count": 36,
   "metadata": {},
   "outputs": [
    {
     "name": "stdout",
     "output_type": "stream",
     "text": [
      "Number [1, 2, 3, 500, 50]\n",
      "Max number: 500\n"
     ]
    }
   ],
   "source": [
    "# 3. Find the Largest Number in a List\n",
    "\n",
    "numbers = list(map(int, input(\"Enter numbers: \").split()))\n",
    "print(\"Number:\", numbers)\n",
    "print(\"Max number:\", max(numbers))"
   ]
  },
  {
   "cell_type": "code",
   "execution_count": 41,
   "metadata": {},
   "outputs": [
    {
     "name": "stdout",
     "output_type": "stream",
     "text": [
      "'d' appears 1 times\n",
      "'i' appears 2 times\n",
      "'w' appears 2 times\n",
      "'j' appears 1 times\n",
      "{'d': 1, 'i': 2, 'w': 2, 'j': 1}\n"
     ]
    }
   ],
   "source": [
    "# 4. Count Characters in a String\n",
    "\n",
    "text = input(\"Enter a string 👍🏿 : \")\n",
    "char_count = {}\n",
    "\n",
    "for char in text:\n",
    "    char_count[char] = char_count.get(char, 0) + 1\n",
    "\n",
    "for char, count in char_count.items():\n",
    "    print(f\"'{char}' appears {count} times\")\n",
    "\n",
    "print(char_count) "
   ]
  },
  {
   "cell_type": "code",
   "execution_count": 43,
   "metadata": {},
   "outputs": [
    {
     "name": "stdout",
     "output_type": "stream",
     "text": [
      "After swapping: a = 56, b = 24\n"
     ]
    }
   ],
   "source": [
    "# 5. Swap Values of Two Variables\n",
    "\n",
    "a = input(\"Enter value for a: \")\n",
    "b = input(\"Enter value for b: \")\n",
    "\n",
    "a, b = b, a\n",
    "\n",
    "print(f\"After swapping: a = {a}, b = {b}\")"
   ]
  },
  {
   "cell_type": "code",
   "execution_count": 50,
   "metadata": {},
   "outputs": [
    {
     "name": "stdout",
     "output_type": "stream",
     "text": [
      "#   #   #   #   \n",
      "  #   #   #   # \n",
      "#   #   #   #   \n",
      "  #   #   #   # \n",
      "#   #   #   #   \n",
      "  #   #   #   # \n",
      "#   #   #   #   \n",
      "  #   #   #   # \n"
     ]
    }
   ],
   "source": [
    "# 6. Create a Chessboard Pattern\n",
    "\n",
    "size = 8\n",
    "\n",
    "for row in range(size):\n",
    "    for col in range(size):\n",
    "        if (row + col) % 2 == 0:\n",
    "            print(\"#\", end=\" \")\n",
    "        else:\n",
    "            print(\" \", end=\" \")\n",
    "    print()\n",
    "\n",
    "#* row: แนวนอน \n",
    "#* col: แนวตั้ง"
   ]
  },
  {
   "cell_type": "code",
   "execution_count": 2,
   "metadata": {},
   "outputs": [
    {
     "name": "stdout",
     "output_type": "stream",
     "text": [
      "Result: 6000\n"
     ]
    }
   ],
   "source": [
    "# 7. Product of Numbers in a List\n",
    "\n",
    "from math import prod\n",
    "\n",
    "numbers = list(map(int, input(\"Enter numbers: \").split()))\n",
    "print(\"Result:\", prod(numbers))\n",
    "\n",
    "# 10 20 30 "
   ]
  },
  {
   "cell_type": "code",
   "execution_count": 3,
   "metadata": {},
   "outputs": [
    {
     "name": "stdout",
     "output_type": "stream",
     "text": [
      "Result 9\n"
     ]
    }
   ],
   "source": [
    "# 8. Count Words in a Sentence\n",
    "\n",
    "sentence = input(\"Enter sentence: \")\n",
    "words = sentence.split()\n",
    "print(\"Result\", len(words))\n",
    "\n",
    "# The quick brown fox jumps over the lazy dog"
   ]
  },
  {
   "cell_type": "code",
   "execution_count": 13,
   "metadata": {},
   "outputs": [
    {
     "name": "stdout",
     "output_type": "stream",
     "text": [
      "The temperature in Fahrenheit is: 96.8\n"
     ]
    }
   ],
   "source": [
    "# 9. Convert Temperature from Celsius to Fahrenheit\n",
    "\n",
    "celsius = float(input(\"Enter temperature in Celsius: \"))\n",
    "fahrenheit = (celsius * 9/5) + 32\n",
    "print(f\"The temperature in Fahrenheit is: {fahrenheit}\")\n"
   ]
  },
  {
   "cell_type": "code",
   "execution_count": 24,
   "metadata": {},
   "outputs": [
    {
     "name": "stdout",
     "output_type": "stream",
     "text": [
      "Even numbers: 0, Odd numbers: 1\n"
     ]
    }
   ],
   "source": [
    "# 10. Count Even and Odd Numbers in a List\n",
    "\n",
    "numbers = list(map(int, input(\"Enter numbers: \").split()))\n",
    "evens = sum(1 for x in numbers if x % 2 == 0)\n",
    "odds = sum(1 for x in numbers if x % 2 != 0)\n",
    "print(f\"Even numbers: {evens}, Odd numbers: {odds}\")\n",
    "\n",
    "#? 1: สำหรับทุกจำนวนที่ตรงตามเงื่อนไข (คือเป็นเลขคี่) จะคืนค่า 1\n",
    "#* for x in ทำการวนลูปผ่านแต่ละสมาชิก x ในลิสต์ numbers"
   ]
  }
 ],
 "metadata": {
  "kernelspec": {
   "display_name": "Python 3",
   "language": "python",
   "name": "python3"
  },
  "language_info": {
   "codemirror_mode": {
    "name": "ipython",
    "version": 3
   },
   "file_extension": ".py",
   "mimetype": "text/x-python",
   "name": "python",
   "nbconvert_exporter": "python",
   "pygments_lexer": "ipython3",
   "version": "3.12.4"
  }
 },
 "nbformat": 4,
 "nbformat_minor": 2
}
