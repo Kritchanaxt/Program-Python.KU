{
 "cells": [
  {
   "cell_type": "code",
   "execution_count": 3,
   "metadata": {},
   "outputs": [
    {
     "name": "stdout",
     "output_type": "stream",
     "text": [
      "LL\n",
      "  II\n",
      "    NN\n",
      "      KK\n"
     ]
    }
   ],
   "source": [
    "#1.\n",
    "word = \"LINK\"\n",
    "space = 0\n",
    "\n",
    "for letter in word:\n",
    "    print(' ' * space + letter * 2)\n",
    "    space += 2"
   ]
  },
  {
   "cell_type": "code",
   "execution_count": 2,
   "metadata": {},
   "outputs": [
    {
     "name": "stdout",
     "output_type": "stream",
     "text": [
      "HHH\n",
      "HHT\n",
      "HTH\n",
      "HTT\n",
      "THH\n",
      "THT\n",
      "TTH\n",
      "TTT\n"
     ]
    }
   ],
   "source": [
    "#2.\n",
    "\n",
    "def combine(current, n):\n",
    "    if n == 0:\n",
    "        print(current)\n",
    "    else:\n",
    "        combine(current + \"H\", n - 1)\n",
    "        combine(current + \"T\", n - 1)\n",
    "\n",
    "combine(\"\", 3)"
   ]
  },
  {
   "cell_type": "code",
   "execution_count": 1,
   "metadata": {},
   "outputs": [
    {
     "name": "stdout",
     "output_type": "stream",
     "text": [
      "abc-@mail.com: Invalid\n",
      "abc.def@,ail.com: Invalid\n",
      "abc.def@mail-archive.com: Valid\n",
      "abc.def@mail.org: Valid\n",
      "abc@com: Invalid\n",
      "abc#def@mail.com: Invalid\n"
     ]
    }
   ],
   "source": [
    "#3. \n",
    "\n",
    "class EmailValidator:\n",
    "    def __init__(self, email):\n",
    "        self.email = email\n",
    "\n",
    "    def is_valid(self):\n",
    "        if '@' not in self.email:\n",
    "            return False\n",
    "        \n",
    "        local_part, domain = self.email.split('@', 1)\n",
    "\n",
    "        if not self.is_valid_local_part(local_part):\n",
    "            return False\n",
    "        \n",
    "        if not self.is_valid_domain(domain):\n",
    "            return False\n",
    "        \n",
    "        return True\n",
    "    \n",
    "    def is_valid_local_part(self, local_part):\n",
    "\n",
    "        valid_chars = 'abcdefghijklmopqrstuvwxyzABCDEFGHIJKLMNOPQRSTUVWXYZ0123456789._-'\n",
    "\n",
    "        for char in local_part:\n",
    "            if char not in valid_chars:\n",
    "                return False\n",
    "            \n",
    "        if local_part[0] in '._-' or local_part[-1] in '._-':\n",
    "            return False\n",
    "        \n",
    "        return True\n",
    "    \n",
    "    def is_valid_domain(self, domain):\n",
    "        if '.' not in domain:\n",
    "            return False\n",
    "        \n",
    "        parts = domain.split('.')\n",
    "\n",
    "        for part in parts:\n",
    "            if not self.is_valid_domain_part(part):\n",
    "                return False\n",
    "            \n",
    "        if len(parts[-1]) < 2: \n",
    "            return False\n",
    "        \n",
    "        return True\n",
    "    \n",
    "    def is_valid_domain_part(self, part):\n",
    "        for char in part:\n",
    "            if not ('a' <= char <= 'z' or 'A' <= char <= 'Z' or '0' <= char <= '9'):\n",
    "                return False    \n",
    "            return True\n",
    "        \n",
    "emails = [\"abc-@mail.com\", \"abc.def@,ail.com\", \"abc.def@mail-archive.com\", \"abc.def@mail.org\", \"abc@com\", \"abc#def@mail.com\"]\n",
    "\n",
    "for email in emails:\n",
    "    validator = EmailValidator(email)\n",
    "    print(f\"{email}: {'Valid' if validator.is_valid() else 'Invalid'}\")\n"
   ]
  },
  {
   "cell_type": "markdown",
   "metadata": {},
   "source": []
  }
 ],
 "metadata": {
  "kernelspec": {
   "display_name": "Python 3",
   "language": "python",
   "name": "python3"
  },
  "language_info": {
   "codemirror_mode": {
    "name": "ipython",
    "version": 3
   },
   "file_extension": ".py",
   "mimetype": "text/x-python",
   "name": "python",
   "nbconvert_exporter": "python",
   "pygments_lexer": "ipython3",
   "version": "3.12.4"
  }
 },
 "nbformat": 4,
 "nbformat_minor": 2
}
