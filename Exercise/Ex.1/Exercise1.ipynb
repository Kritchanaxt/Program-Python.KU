{
 "cells": [
  {
   "cell_type": "code",
   "execution_count": 8,
   "metadata": {},
   "outputs": [
    {
     "name": "stdout",
     "output_type": "stream",
     "text": [
      "Sum list: 12\n"
     ]
    }
   ],
   "source": [
    "# 1. Sum of Numbers in a List\n",
    "\n",
    "numbers = list(map(int, input(\"Enter numbers: \").split()))\n",
    "print(\"Result:\", sum(numbers))"
   ]
  },
  {
   "cell_type": "code",
   "execution_count": 3,
   "metadata": {},
   "outputs": [
    {
     "name": "stdout",
     "output_type": "stream",
     "text": [
      "\"12\" is not a Palindrome\n"
     ]
    }
   ],
   "source": [
    "# 2. Check if a Word is a Palindrome\n",
    "\n",
    "def palindrome(word):\n",
    "    return word == word[::-1]\n",
    "\n",
    "word = input(\"Enter a word to check: \")\n",
    "if palindrome(word):\n",
    "    print(f'\"{word}\" is a Palindrome')\n",
    "else:\n",
    "    print(f'\"{word}\" is not a Palindrome')"
   ]
  },
  {
   "cell_type": "code",
   "execution_count": null,
   "metadata": {},
   "outputs": [],
   "source": [
    "# 3. Find the Largest Number in a List\n",
    "\n",
    "numbers = list(map(int, input(\"Enter numbers: \").split()))\n",
    "print(\"Max number:\", max(numbers))"
   ]
  },
  {
   "cell_type": "code",
   "execution_count": 4,
   "metadata": {},
   "outputs": [
    {
     "name": "stdout",
     "output_type": "stream",
     "text": [
      "'W' appears 1 times\n",
      "'a' appears 1 times\n",
      "'v' appears 1 times\n",
      "'e' appears 1 times\n"
     ]
    }
   ],
   "source": [
    "# 4. Count Characters in a String\n",
    "\n",
    "text = input(\"Enter a string: \")\n",
    "char_count = {}\n",
    "\n",
    "for char in text:\n",
    "    char_count[char] = char_count.get(char, 0) + 1\n",
    "\n",
    "for char, count in char_count.items():\n",
    "    print(f\"'{char}' appears {count} times\")\n"
   ]
  },
  {
   "cell_type": "code",
   "execution_count": 6,
   "metadata": {},
   "outputs": [
    {
     "name": "stdout",
     "output_type": "stream",
     "text": [
      "After swapping: a = 4, b = 2\n"
     ]
    }
   ],
   "source": [
    "# 5. Swap Values of Two Variables\n",
    "\n",
    "a = input(\"Enter value for a: \")\n",
    "b = input(\"Enter value for b: \")\n",
    "\n",
    "a, b = b, a\n",
    "\n",
    "print(f\"After swapping: a = {a}, b = {b}\")"
   ]
  },
  {
   "cell_type": "code",
   "execution_count": null,
   "metadata": {},
   "outputs": [],
   "source": [
    "# 6. Create a Chessboard Pattern\n",
    "\n",
    "size = 8\n",
    "\n",
    "for row in range(size):\n",
    "    for col in range(size):\n",
    "        if (row + col) % 2 == 0:\n",
    "            print(\"#\", end=\" \")\n",
    "        else:\n",
    "            print(\" \", end=\" \")\n",
    "    print()\n"
   ]
  },
  {
   "cell_type": "code",
   "execution_count": null,
   "metadata": {},
   "outputs": [],
   "source": [
    "# 7. Product of Numbers in a List\n",
    "\n",
    "from math import prod\n",
    "\n",
    "numbers = list(map(int, input(\"Enter numbers: \").split()))\n",
    "print(\"Result:\", prod(numbers))"
   ]
  },
  {
   "cell_type": "code",
   "execution_count": 12,
   "metadata": {},
   "outputs": [
    {
     "name": "stdout",
     "output_type": "stream",
     "text": [
      "Result 4\n"
     ]
    }
   ],
   "source": [
    "# 8. Count Words in a Sentence\n",
    "\n",
    "sentence = input(\"Enter sentence: \")\n",
    "words = sentence.split()\n",
    "print(\"Result\", len(words))"
   ]
  },
  {
   "cell_type": "code",
   "execution_count": 13,
   "metadata": {},
   "outputs": [
    {
     "name": "stdout",
     "output_type": "stream",
     "text": [
      "The temperature in Fahrenheit is: 96.8\n"
     ]
    }
   ],
   "source": [
    "# 9. Convert Temperature from Celsius to Fahrenheit\n",
    "\n",
    "celsius = float(input(\"Enter temperature in Celsius: \"))\n",
    "fahrenheit = (celsius * 9/5) + 32\n",
    "print(f\"The temperature in Fahrenheit is: {fahrenheit}\")\n"
   ]
  },
  {
   "cell_type": "code",
   "execution_count": 24,
   "metadata": {},
   "outputs": [
    {
     "name": "stdout",
     "output_type": "stream",
     "text": [
      "Even numbers: 0, Odd numbers: 1\n"
     ]
    }
   ],
   "source": [
    "# 10. Count Even and Odd Numbers in a List\n",
    "\n",
    "numbers = list(map(int, input(\"Enter numbers: \").split()))\n",
    "evens = sum(1 for x in numbers if x % 2 == 0)\n",
    "odds = sum(1 for x in numbers if x % 2 != 0)\n",
    "print(f\"Even numbers: {evens}, Odd numbers: {odds}\")\n",
    "\n",
    "#? 1: สำหรับทุกจำนวนที่ตรงตามเงื่อนไข (คือเป็นเลขคี่) จะคืนค่า 1\n",
    "#* for x in ทำการวนลูปผ่านแต่ละสมาชิก x ในลิสต์ numbers\n"
   ]
  }
 ],
 "metadata": {
  "kernelspec": {
   "display_name": "Python 3",
   "language": "python",
   "name": "python3"
  },
  "language_info": {
   "codemirror_mode": {
    "name": "ipython",
    "version": 3
   },
   "file_extension": ".py",
   "mimetype": "text/x-python",
   "name": "python",
   "nbconvert_exporter": "python",
   "pygments_lexer": "ipython3",
   "version": "3.12.4"
  }
 },
 "nbformat": 4,
 "nbformat_minor": 2
}
