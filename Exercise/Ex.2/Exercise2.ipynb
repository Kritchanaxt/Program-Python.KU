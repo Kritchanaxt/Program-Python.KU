{
 "cells": [
  {
   "cell_type": "code",
   "execution_count": null,
   "metadata": {},
   "outputs": [],
   "source": [
    "# 1. Convert Decimal to Binary Without Using bin()\n",
    "\n",
    "decimal = int(input(\"Enter a decimal number: \"))\n",
    "binary = \"\"\n",
    "\n",
    "if decimal == 0:\n",
    "    binary = \"0\"\n",
    "\n",
    "while decimal > 0:\n",
    "    binary = str(decimal % 2) + binary\n",
    "    decimal //= 2\n",
    "\n",
    "print(\"Binary representation:\", binary)\n"
   ]
  },
  {
   "cell_type": "code",
   "execution_count": null,
   "metadata": {},
   "outputs": [],
   "source": [
    "# 2. Find the Longest Word in a Sentence\n",
    "\n",
    "sentence = input(\"Enter a sentence: \")\n",
    "words = sentence.split()\n",
    "longest_length = max(len(word) for word in words)\n",
    "longest_words = [word for word in words if len(word) == longest_length]\n",
    "\n",
    "print(\"Longest word(s):\", ' '.join(longest_words))\n"
   ]
  },
  {
   "cell_type": "code",
   "execution_count": null,
   "metadata": {},
   "outputs": [],
   "source": [
    "# 3. Find Prime Numbers in a Range\n",
    "\n",
    "def prime(num):\n",
    "    if num < 2:\n",
    "        return False\n",
    "    for i in range(2, int(num**0.5) + 1):\n",
    "        if num % i == 0:\n",
    "            return False\n",
    "    return True\n",
    "\n",
    "start = int(input(\"Enter the start of the range: \"))\n",
    "end = int(input(\"Enter the end of the range: \"))\n",
    "\n",
    "primes = [num for num in range(start, end + 1) if prime(num)]\n",
    "print(\"Prime numbers in the range:\", primes)\n"
   ]
  },
  {
   "cell_type": "code",
   "execution_count": null,
   "metadata": {},
   "outputs": [],
   "source": [
    "# 4. Generate Fibonacci Sequence Using Recursion\n",
    "\n",
    "def fibonacci(n):\n",
    "    if n <= 1:\n",
    "        return n\n",
    "    else:\n",
    "        return fibonacci(n-1) + fibonacci(n-2)\n",
    "\n",
    "n = int(input(\"Enter the number of terms in Fibonacci sequence: \"))\n",
    "\n",
    "for i in range(n):\n",
    "    print(fibonacci(i), end=\" \")\n",
    "print()\n",
    "\n"
   ]
  },
  {
   "cell_type": "code",
   "execution_count": null,
   "metadata": {},
   "outputs": [],
   "source": [
    "# 5. Find the Most Frequent Word in a String\n",
    "\n",
    "from collections import Counter\n",
    "\n",
    "text = input(\"Enter a string: \")\n",
    "words = text.split()\n",
    "word_count = Counter(words)\n",
    "most_common_words = [word for word, count in word_count.items() if count == max(word_count.values())]\n",
    "\n",
    "print(\"Most frequent word(s):\", ' '.join(most_common_words))\n"
   ]
  },
  {
   "cell_type": "code",
   "execution_count": null,
   "metadata": {},
   "outputs": [],
   "source": [
    "# 6. Sort Numbers in a List Using Bubble Sort\n",
    "\n",
    "numbers = list(map(int, input(\"Enter numbers: \").split()))\n",
    "\n",
    "def bubble_sort(arr):\n",
    "    n = len(arr)\n",
    "    for i in range(n):\n",
    "        for j in range(0, n-i-1):\n",
    "            if arr[j] > arr[j+1]:\n",
    "                arr[j], arr[j+1] = arr[j+1], arr[j]\n",
    "\n",
    "bubble_sort(numbers)\n",
    "print(\"Sorted list:\", numbers)\n"
   ]
  },
  {
   "cell_type": "code",
   "execution_count": null,
   "metadata": {},
   "outputs": [],
   "source": [
    "# 7. Sum of Matrix Elements\n",
    "\n",
    "n = int(input(\"Enter number of rows: \"))\n",
    "m = int(input(\"Enter number of columns: \"))\n",
    "\n",
    "matrix = []\n",
    "for i in range(n):\n",
    "    row = list(map(int, input(f\"Enter row {i+1} : \").split()))\n",
    "    matrix.append(row)\n",
    "\n",
    "matrix_sum = sum(sum(row) for row in matrix)\n",
    "print(\"Sum matrix:\", matrix_sum)\n"
   ]
  },
  {
   "cell_type": "code",
   "execution_count": null,
   "metadata": {},
   "outputs": [],
   "source": [
    "# 8. Check for Cycle in a Graph\n",
    "\n",
    "from collections import defaultdict\n",
    "\n",
    "def has_cycle(graph, node, visited, rec_stack):\n",
    "    visited[node] = True\n",
    "    rec_stack[node] = True\n",
    "    \n",
    "    for neighbor in graph[node]:\n",
    "        if not visited[neighbor]:\n",
    "            if has_cycle(graph, neighbor, visited, rec_stack):\n",
    "                return True\n",
    "        elif rec_stack[neighbor]:\n",
    "            return True\n",
    "\n",
    "    rec_stack[node] = False\n",
    "    return False\n",
    "\n",
    "# Input the graph\n",
    "n = int(input(\"Enter number of nodes: \"))\n",
    "graph = defaultdict(list)\n",
    "for _ in range(n):\n",
    "    edges = list(map(int, input(\"Enter the edges for node (space-separated): \").split()))\n",
    "    node = edges[0]\n",
    "    for neighbor in edges[1:]:\n",
    "        graph[node].append(neighbor)\n",
    "\n",
    "visited = {node: False for node in graph}\n",
    "rec_stack = {node: False for node in graph}\n",
    "\n",
    "cycle_exists = any(has_cycle(graph, node, visited, rec_stack) for node in graph if not visited[node])\n",
    "print(\"Cycle exists in the graph:\" if cycle_exists else \"No cycle in the graph.\")\n"
   ]
  },
  {
   "cell_type": "code",
   "execution_count": null,
   "metadata": {},
   "outputs": [],
   "source": [
    "# 9. Calculate Factorial Using Memoization\n",
    "\n",
    "memo = {}\n",
    "\n",
    "def factorial(n):\n",
    "    if n in memo:\n",
    "        return memo[n]\n",
    "    if n == 0 or n == 1:\n",
    "        return 1\n",
    "    memo[n] = n * factorial(n - 1)\n",
    "    return memo[n]\n",
    "\n",
    "n = int(input(\"Enter a number to calculate factorial: \"))\n",
    "print(\"Factorial:\", factorial(n))\n"
   ]
  },
  {
   "cell_type": "code",
   "execution_count": null,
   "metadata": {},
   "outputs": [],
   "source": [
    "# 10. Caesar Cipher Encoding and Decoding\n",
    "\n",
    "def caesar_cipher(text, shift):\n",
    "    result = \"\"\n",
    "    for char in text:\n",
    "        if char.isalpha():\n",
    "            shift_amount = shift % 26\n",
    "            start = ord('A') if char.isupper() else ord('a')\n",
    "            result += chr((ord(char) - start + shift_amount) % 26 + start)\n",
    "        else:\n",
    "            result += char\n",
    "    return result\n",
    "\n",
    "text = input(\"Enter text: \")\n",
    "shift = int(input(\"Enter shift value: \"))\n",
    "\n",
    "encoded = caesar_cipher(text, shift)\n",
    "decoded = caesar_cipher(encoded, -shift)\n",
    "\n",
    "print(\"Encoded text:\", encoded)\n",
    "print(\"Decoded text:\", decoded)\n"
   ]
  }
 ],
 "metadata": {
  "language_info": {
   "name": "python"
  }
 },
 "nbformat": 4,
 "nbformat_minor": 2
}
