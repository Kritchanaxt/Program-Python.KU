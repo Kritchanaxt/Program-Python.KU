{
 "cells": [
  {
   "cell_type": "code",
   "execution_count": null,
   "metadata": {},
   "outputs": [],
   "source": [
    "# Details Homework\n",
    "\n",
    "#* ให้เขียนโปรแกรม Summation ให้รับค่าตัวเลขจำนวนเต็มเข้ามาโดยการป้อนข้อมูลจากผู้ใช้งาน โดยจำนวนตัวเลขที่ใส่ต้องไม่ต่ำกว่า 6 หลัก \n",
    "\n",
    "#* โดยโจทย์ดังนี้ ตัวอย่างเช่น ifn = 457893 เราต้องมีการบวก 4+5+7+8+9+3 = 36 พร้อมทั้งสร้าง data list ผลรวมที่ละตัว เช่น \n",
    "\n",
    "#* [9, 16, 24, 33, 36] ให้เป็นตัวแปร Global ที่มีการแก้ไขใน Function\n",
    "\n",
    "#? Section 1: ไม่ต้องเขียน function\n",
    "#? Section 2: ต้องเขียน function แบบ user defined และให้มี Global, Local variables\n",
    "#? Section 3: Function using lambda.\n",
    "\n",
    "#! สรุป result มีสองอย่างคือ ผลรวมทั้งหมด และ data list ที่มีผล aggregated summation."
   ]
  },
  {
   "cell_type": "code",
   "execution_count": 5,
   "metadata": {},
   "outputs": [
    {
     "name": "stdout",
     "output_type": "stream",
     "text": [
      "Total sum: 17\n",
      "Data list: [6, 9, 12, 15, 17]\n"
     ]
    }
   ],
   "source": [
    "# Section 1: \n",
    "\n",
    "number = input(\"Please enter an integer with at least 6 digits: \")\n",
    "\n",
    "if len(number) < 6 or not number.isdigit():\n",
    "    print(\"The number must have at least 6 digits\")\n",
    "else:\n",
    "    digits = [int(digit) for digit in number]\n",
    "    \n",
    "    summations = [sum(digits[i:i+3]) for i in range(len(digits) - 2)]\n",
    "    \n",
    "    total_sum = summations[-1] if summations else 0\n",
    "    \n",
    "    print(\"Total sum:\", total_sum)\n",
    "    print(\"Data list:\", summations)"
   ]
  },
  {
   "cell_type": "code",
   "execution_count": 1,
   "metadata": {},
   "outputs": [
    {
     "name": "stdout",
     "output_type": "stream",
     "text": [
      "Total sum: 15\n",
      "Data list: [6, 9, 12, 15]\n"
     ]
    }
   ],
   "source": [
    "# Section 2: \n",
    "\n",
    "summations = []\n",
    "\n",
    "def calculate_summation(number):\n",
    "    global summations\n",
    "    digits = [int(digit) for digit in number]\n",
    "    \n",
    "    summations = [sum(digits[i:i+3]) for i in range(len(digits) - 2)]\n",
    "    \n",
    "    total_sum = summations[-1] if summations else 0\n",
    "    return total_sum\n",
    "\n",
    "number = input(\"Please enter an integer with at least 6 digits: \")\n",
    "\n",
    "if len(number) < 6 or not number.isdigit():\n",
    "    print(\"The number must have at least 6 digits\")\n",
    "else:\n",
    "    total_sum = calculate_summation(number)\n",
    "    \n",
    "    print(\"Total sum:\", total_sum)\n",
    "    print(\"Data list:\", summations)"
   ]
  },
  {
   "cell_type": "code",
   "execution_count": 6,
   "metadata": {},
   "outputs": [
    {
     "name": "stdout",
     "output_type": "stream",
     "text": [
      "Total sum: 18\n",
      "Data list: [7, 11, 15, 18]\n"
     ]
    }
   ],
   "source": [
    "# Section 3: \n",
    "\n",
    "def calculate_summation(number):\n",
    "    digits = [int(digit) for digit in number]\n",
    "    \n",
    "    summations = list(map(lambda i: sum(digits[i:i+3]), range(len(digits) - 2)))\n",
    "    \n",
    "    total_sum = summations[-1] if summations else 0\n",
    "    return total_sum\n",
    "\n",
    "number = input(\"Please enter an integer with at least 6 digits: \")\n",
    "\n",
    "if len(number) < 6 or not number.isdigit():\n",
    "    print(\"The number must have at least 6 digits\")\n",
    "else:\n",
    "    total_sum = calculate_summation(number)\n",
    "    \n",
    "    digits = [int(digit) for digit in number]\n",
    "    summations = list(map(lambda i: sum(digits[i:i+3]), range(len(digits) - 2)))\n",
    "    \n",
    "    print(\"Total sum:\", total_sum)\n",
    "    print(\"Data list:\", summations)\n"
   ]
  }
 ],
 "metadata": {
  "kernelspec": {
   "display_name": "Python 3",
   "language": "python",
   "name": "python3"
  },
  "language_info": {
   "codemirror_mode": {
    "name": "ipython",
    "version": 3
   },
   "file_extension": ".py",
   "mimetype": "text/x-python",
   "name": "python",
   "nbconvert_exporter": "python",
   "pygments_lexer": "ipython3",
   "version": "3.12.4"
  }
 },
 "nbformat": 4,
 "nbformat_minor": 2
}
