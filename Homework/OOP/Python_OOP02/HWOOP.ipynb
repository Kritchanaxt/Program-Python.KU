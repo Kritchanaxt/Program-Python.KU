{
 "cells": [
  {
   "cell_type": "code",
   "execution_count": 2,
   "metadata": {},
   "outputs": [
    {
     "name": "stdout",
     "output_type": "stream",
     "text": [
      "[12, 23]\n",
      "Max : 23\n",
      "Min : 12\n",
      "Count : 2\n",
      "Summation : 35\n"
     ]
    }
   ],
   "source": [
    "class Data:\n",
    "    def __init__(self):\n",
    "        self.age = []\n",
    "\n",
    "    def inputAge(self, num):\n",
    "        for i in range(num):\n",
    "            self.age.append(int(input(\"Enter Age: \")))\n",
    "\n",
    "    def printAllAge(self):\n",
    "        return f\"{self.age}\"\n",
    "    \n",
    "    def findMax(self):\n",
    "        return f\"Max : {max(self.age)}\"\n",
    "    \n",
    "    def findMin(self):\n",
    "        return f\"Min : {min(self.age)}\"\n",
    "\n",
    "    def CountAge(self):\n",
    "        return f\"Count : {len(self.age)}\"\n",
    "    \n",
    "    def SumAge(self):\n",
    "        return f\"Summation : {sum(self.age)}\"\n",
    "\n",
    "CountOfLoop = int(input(\"Number loop: \"))\n",
    "\n",
    "data1 = Data()\n",
    "data1.inputAge(CountOfLoop)\n",
    "\n",
    "print(data1.printAllAge())\n",
    "print(data1.findMax())\n",
    "print(data1.findMin())\n",
    "print(data1.CountAge())\n",
    "print(data1.SumAge())\n"
   ]
  }
 ],
 "metadata": {
  "kernelspec": {
   "display_name": "Python 3",
   "language": "python",
   "name": "python3"
  },
  "language_info": {
   "codemirror_mode": {
    "name": "ipython",
    "version": 3
   },
   "file_extension": ".py",
   "mimetype": "text/x-python",
   "name": "python",
   "nbconvert_exporter": "python",
   "pygments_lexer": "ipython3",
   "version": "3.12.4"
  }
 },
 "nbformat": 4,
 "nbformat_minor": 2
}
