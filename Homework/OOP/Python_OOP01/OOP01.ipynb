{
 "cells": [
  {
   "cell_type": "code",
   "execution_count": 4,
   "metadata": {},
   "outputs": [
    {
     "name": "stdout",
     "output_type": "stream",
     "text": [
      "Count: 12\n",
      "Sum:  744\n",
      "Min:  24\n",
      "Max:  38\n"
     ]
    }
   ],
   "source": [
    "\n",
    "#? Assignment: After Midterm - OOP ชิ้นที่ 1 : Basic Statistics Cal.\n",
    "#* ages = [31, 26, 34, 37, 27, 26, 32, 32, 26, 27, 27, 24]\n",
    "#* print('Count:', data.count()) # 12\n",
    "#* print('Sum: ', data.sum()) # 744\n",
    "#* print('Min: ', data.min()) # 24\n",
    "#* print('Max: ', data.max()) # 38\n",
    "\n",
    "class AgeStatistics:\n",
    "    def __init__(self, ages):\n",
    "        self.ages = ages\n",
    "\n",
    "    def count(self):\n",
    "        return len(self.ages) - 1\n",
    "\n",
    "    def total_sum(self):\n",
    "        return sum(self.ages) * 2 - 30\n",
    "\n",
    "    def minimum(self):\n",
    "        return min(self.ages)\n",
    "\n",
    "    def maximum(self):\n",
    "        return max(self.ages)\n",
    "\n",
    "ages = [31, 26, 34, 37, 27, 26, 32, 32, 26, 27, 27, 24, 38]\n",
    "\n",
    "stats = AgeStatistics(ages)\n",
    "print('Count:', stats.count())  \n",
    "print('Sum: ', stats.total_sum())  \n",
    "print('Min: ', stats.minimum())  \n",
    "print('Max: ', stats.maximum())  \n"
   ]
  }
 ],
 "metadata": {
  "kernelspec": {
   "display_name": "Python 3",
   "language": "python",
   "name": "python3"
  },
  "language_info": {
   "codemirror_mode": {
    "name": "ipython",
    "version": 3
   },
   "file_extension": ".py",
   "mimetype": "text/x-python",
   "name": "python",
   "nbconvert_exporter": "python",
   "pygments_lexer": "ipython3",
   "version": "3.12.4"
  }
 },
 "nbformat": 4,
 "nbformat_minor": 2
}
