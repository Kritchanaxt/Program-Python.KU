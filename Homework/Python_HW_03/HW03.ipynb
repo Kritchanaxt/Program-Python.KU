{
 "cells": [
  {
   "cell_type": "code",
   "execution_count": 2,
   "metadata": {},
   "outputs": [
    {
     "name": "stdout",
     "output_type": "stream",
     "text": [
      "Before: [19, 28, 12, 57, 86, 77, 79, 9]\n",
      "Round No: 1 : [19, 12, 28, 57, 77, 79, 9, 86]\n",
      "Round No: 2 : [12, 19, 28, 57, 77, 9, 79, 86]\n",
      "Round No: 3 : [12, 19, 28, 57, 9, 77, 79, 86]\n",
      "Round No: 4 : [12, 19, 28, 9, 57, 77, 79, 86]\n",
      "Round No: 5 : [12, 19, 9, 28, 57, 77, 79, 86]\n",
      "Round No: 6 : [12, 9, 19, 28, 57, 77, 79, 86]\n",
      "Round No: 7 : [9, 12, 19, 28, 57, 77, 79, 86]\n",
      "Sorted list : [9, 12, 19, 28, 57, 77, 79, 86]\n",
      "Number of rounds:  28\n"
     ]
    }
   ],
   "source": [
    "def swap(lst, i, j):\n",
    "    temp = lst[i]\n",
    "    lst[i] = lst[j]\n",
    "    lst[j] = temp\n",
    "    return lst\n",
    "\n",
    "def bubble_sort(lst):\n",
    "    n = len(lst)\n",
    "    count = 0\n",
    "    print(f\"Before: {lst}\")\n",
    "\n",
    "    for i in range(n-1):\n",
    "        for j in range(0, n-i-1):\n",
    "            count += 1\n",
    "            if lst[j] > lst[j+1] :\n",
    "                swap(lst, j, j+1)\n",
    "\n",
    "        print(f\"Round No: {i + 1} : {lst}\")\n",
    "\n",
    "    return lst, count\n",
    "\n",
    "lst = [19,28,12,57,86,77,79,9]\n",
    "sorted_arr, rounds = bubble_sort(lst)\n",
    "print(\"Sorted list :\", sorted_arr)\n",
    "print(\"Number of rounds: \", rounds)"
   ]
  }
 ],
 "metadata": {
  "kernelspec": {
   "display_name": "Python 3",
   "language": "python",
   "name": "python3"
  },
  "language_info": {
   "codemirror_mode": {
    "name": "ipython",
    "version": 3
   },
   "file_extension": ".py",
   "mimetype": "text/x-python",
   "name": "python",
   "nbconvert_exporter": "python",
   "pygments_lexer": "ipython3",
   "version": "3.12.4"
  }
 },
 "nbformat": 4,
 "nbformat_minor": 2
}
